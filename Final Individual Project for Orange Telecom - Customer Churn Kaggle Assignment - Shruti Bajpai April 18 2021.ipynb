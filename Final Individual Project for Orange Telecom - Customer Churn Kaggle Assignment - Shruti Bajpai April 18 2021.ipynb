{
 "cells": [
  {
   "cell_type": "markdown",
   "metadata": {},
   "source": [
    "---\n",
    "\n",
    "# Customer Churn: InClass Kaggle Competition - Python \n",
    "#### Author Shruti Bajpai\n",
    "\n",
    "This notebook gives an example on the implementation of machine learning pipeline for the InClass Kaggle Competition.\n",
    "\n",
    "Last update on: 19/04/2021\n",
    "Editor/Owner: Shruti Bajpai\n",
    "\n",
    "---\n",
    "\n",
    "The machine learning pipeline includes:\n",
    "\n",
    "1. Data processing \n",
    "- [x] Error correction\n",
    "- [x] Value transformation\n",
    "- [x] Value representation\n",
    "- [x] Variable selection\n",
    "\n",
    "2. Modeling \n",
    "- [x] Machine Learning Models\n",
    "\n",
    "3. Model Implementation  \n",
    "- [x] Obtaining Output to Test Kaggle"
   ]
  },
  {
   "cell_type": "code",
   "execution_count": 1,
   "metadata": {},
   "outputs": [
    {
     "name": "stdout",
     "output_type": "stream",
     "text": [
      "_std_all_v5\n"
     ]
    }
   ],
   "source": [
    "# Version\n",
    "exp_version = 'v5'  # Experiment version\n",
    "data_prep = 'std'  # full = data transformation, representation, std = standard, only dummy encode\n",
    "var_set = 'all'  # all = all vars, fs = top fisher score, pca = first PCs\n",
    "fname = '_' + data_prep + '_' + var_set + '_' + exp_version  # Name of output file\n",
    "print(fname)"
   ]
  },
  {
   "cell_type": "code",
   "execution_count": 2,
   "metadata": {},
   "outputs": [],
   "source": [
    "# Flag variables to run the data processing steps\n",
    "# Value transformation step\n",
    "enable_trans_cat_dt = False  # Remapping cat variables - Decision tree–based remapping\n",
    "enable_trans_num_dt = False  # Discretizing num variables - Decision tree–based discretization\n",
    "enable_trans_num_ef = False  # Discretizing num variables - Equal frequency discretization\n",
    "enable_trans_num_ew = False  # Discretizing num variables - Equal width discretization\n",
    "# Value representation step\n",
    "enable_repr_dummy = True  # Represent cat variables - Dummy coding\n",
    "enable_repr_icd = False  # Represent cat variables - Incidence (of target variable) replacement\n",
    "enable_repr_woe = False  # Represent cat variables - Weight-of-Evidence (WoE) conversion\n",
    "drop_cat_vars = True  # Drop cat variables after value representation step\n",
    "# Other data processing\n",
    "enable_normalize = True  # Normalize the data to the same range [0, 1]"
   ]
  },
  {
   "cell_type": "markdown",
   "metadata": {},
   "source": [
    "## Initiation"
   ]
  },
  {
   "cell_type": "code",
   "execution_count": 3,
   "metadata": {},
   "outputs": [],
   "source": [
    "# Data exploration\n",
    "import matplotlib.pyplot as plt\n",
    "\n",
    "# Data processing\n",
    "import pickle\n",
    "import numpy as np\n",
    "import pandas as pd\n",
    "from sklearn.impute import SimpleImputer\n",
    "from sklearn.preprocessing import OrdinalEncoder, OneHotEncoder, KBinsDiscretizer\n",
    "from sklearn.preprocessing import MinMaxScaler\n",
    "from sklearn.feature_selection import mutual_info_classif, VarianceThreshold\n",
    "from sklearn.feature_selection import SelectFromModel\n",
    "from sklearn.decomposition import PCA\n",
    "\n",
    "# Modeling\n",
    "from sklearn.linear_model import LogisticRegression\n",
    "from sklearn.discriminant_analysis import LinearDiscriminantAnalysis\n",
    "from sklearn.tree import DecisionTreeClassifier\n",
    "from sklearn.ensemble import RandomForestClassifier\n",
    "from sklearn.ensemble import GradientBoostingClassifier, AdaBoostClassifier\n",
    "from sklearn.svm import LinearSVC\n",
    "from sklearn.neural_network import MLPClassifier\n",
    "import xgboost as xgb\n",
    "\n",
    "# Experimental setup\n",
    "from sklearn.model_selection import KFold, StratifiedKFold, cross_validate, GridSearchCV\n",
    "from imblearn.over_sampling import SMOTE, RandomOverSampler\n",
    "from imblearn.pipeline import Pipeline\n",
    "from sklearn.metrics import roc_auc_score\n",
    "from sklearn.model_selection import learning_curve"
   ]
  },
  {
   "cell_type": "markdown",
   "metadata": {},
   "source": [
    "## 1. Data summary"
   ]
  },
  {
   "cell_type": "markdown",
   "metadata": {},
   "source": [
    "#### (a) Read and print out some data"
   ]
  },
  {
   "cell_type": "code",
   "execution_count": 4,
   "metadata": {},
   "outputs": [],
   "source": [
    "# Read train, test\n",
    "train = pd.read_csv('orange_churn_train.csv', low_memory=False)\n",
    "test = pd.read_csv('orange_churn_test.csv', low_memory=False)"
   ]
  },
  {
   "cell_type": "code",
   "execution_count": 5,
   "metadata": {},
   "outputs": [
    {
     "name": "stdout",
     "output_type": "stream",
     "text": [
      "float64    191\n",
      "object      38\n",
      "int64        3\n",
      "dtype: int64\n"
     ]
    },
    {
     "data": {
      "text/html": [
       "<div>\n",
       "<style scoped>\n",
       "    .dataframe tbody tr th:only-of-type {\n",
       "        vertical-align: middle;\n",
       "    }\n",
       "\n",
       "    .dataframe tbody tr th {\n",
       "        vertical-align: top;\n",
       "    }\n",
       "\n",
       "    .dataframe thead th {\n",
       "        text-align: right;\n",
       "    }\n",
       "</style>\n",
       "<table border=\"1\" class=\"dataframe\">\n",
       "  <thead>\n",
       "    <tr style=\"text-align: right;\">\n",
       "      <th></th>\n",
       "      <th>cust_id</th>\n",
       "      <th>Var1</th>\n",
       "      <th>Var2</th>\n",
       "      <th>Var3</th>\n",
       "      <th>Var4</th>\n",
       "      <th>Var5</th>\n",
       "      <th>Var6</th>\n",
       "      <th>Var7</th>\n",
       "      <th>Var8</th>\n",
       "      <th>Var9</th>\n",
       "      <th>...</th>\n",
       "      <th>Var222</th>\n",
       "      <th>Var223</th>\n",
       "      <th>Var224</th>\n",
       "      <th>Var225</th>\n",
       "      <th>Var226</th>\n",
       "      <th>Var227</th>\n",
       "      <th>Var228</th>\n",
       "      <th>Var229</th>\n",
       "      <th>Var230</th>\n",
       "      <th>churn</th>\n",
       "    </tr>\n",
       "  </thead>\n",
       "  <tbody>\n",
       "    <tr>\n",
       "      <th>0</th>\n",
       "      <td>3</td>\n",
       "      <td>NaN</td>\n",
       "      <td>NaN</td>\n",
       "      <td>NaN</td>\n",
       "      <td>NaN</td>\n",
       "      <td>NaN</td>\n",
       "      <td>1351.0</td>\n",
       "      <td>7.0</td>\n",
       "      <td>NaN</td>\n",
       "      <td>NaN</td>\n",
       "      <td>...</td>\n",
       "      <td>catzS2D</td>\n",
       "      <td>LM8l689qOp</td>\n",
       "      <td>NaN</td>\n",
       "      <td>ELof</td>\n",
       "      <td>7P5s</td>\n",
       "      <td>ZI9m</td>\n",
       "      <td>NoEd</td>\n",
       "      <td>mj86</td>\n",
       "      <td>NaN</td>\n",
       "      <td>0</td>\n",
       "    </tr>\n",
       "    <tr>\n",
       "      <th>1</th>\n",
       "      <td>4</td>\n",
       "      <td>NaN</td>\n",
       "      <td>NaN</td>\n",
       "      <td>NaN</td>\n",
       "      <td>NaN</td>\n",
       "      <td>NaN</td>\n",
       "      <td>644.0</td>\n",
       "      <td>0.0</td>\n",
       "      <td>NaN</td>\n",
       "      <td>NaN</td>\n",
       "      <td>...</td>\n",
       "      <td>76DJixu</td>\n",
       "      <td>LM8l689qOp</td>\n",
       "      <td>NaN</td>\n",
       "      <td>NaN</td>\n",
       "      <td>7P5s</td>\n",
       "      <td>RAYp</td>\n",
       "      <td>F2FyR07IdsN7I</td>\n",
       "      <td>NaN</td>\n",
       "      <td>NaN</td>\n",
       "      <td>0</td>\n",
       "    </tr>\n",
       "    <tr>\n",
       "      <th>2</th>\n",
       "      <td>7</td>\n",
       "      <td>NaN</td>\n",
       "      <td>NaN</td>\n",
       "      <td>NaN</td>\n",
       "      <td>NaN</td>\n",
       "      <td>NaN</td>\n",
       "      <td>2583.0</td>\n",
       "      <td>0.0</td>\n",
       "      <td>NaN</td>\n",
       "      <td>NaN</td>\n",
       "      <td>...</td>\n",
       "      <td>I5dzv5f</td>\n",
       "      <td>LM8l689qOp</td>\n",
       "      <td>NaN</td>\n",
       "      <td>NaN</td>\n",
       "      <td>FSa2</td>\n",
       "      <td>RAYp</td>\n",
       "      <td>F2FyR07IdsN7I</td>\n",
       "      <td>NaN</td>\n",
       "      <td>NaN</td>\n",
       "      <td>1</td>\n",
       "    </tr>\n",
       "    <tr>\n",
       "      <th>3</th>\n",
       "      <td>8</td>\n",
       "      <td>NaN</td>\n",
       "      <td>NaN</td>\n",
       "      <td>NaN</td>\n",
       "      <td>NaN</td>\n",
       "      <td>NaN</td>\n",
       "      <td>1463.0</td>\n",
       "      <td>7.0</td>\n",
       "      <td>NaN</td>\n",
       "      <td>NaN</td>\n",
       "      <td>...</td>\n",
       "      <td>xwyAw04</td>\n",
       "      <td>LM8l689qOp</td>\n",
       "      <td>NaN</td>\n",
       "      <td>kG3k</td>\n",
       "      <td>fKCe</td>\n",
       "      <td>RAYp</td>\n",
       "      <td>F2FyR07IdsN7I</td>\n",
       "      <td>mj86</td>\n",
       "      <td>NaN</td>\n",
       "      <td>0</td>\n",
       "    </tr>\n",
       "    <tr>\n",
       "      <th>4</th>\n",
       "      <td>9</td>\n",
       "      <td>NaN</td>\n",
       "      <td>NaN</td>\n",
       "      <td>NaN</td>\n",
       "      <td>NaN</td>\n",
       "      <td>NaN</td>\n",
       "      <td>77.0</td>\n",
       "      <td>0.0</td>\n",
       "      <td>NaN</td>\n",
       "      <td>NaN</td>\n",
       "      <td>...</td>\n",
       "      <td>76DJixu</td>\n",
       "      <td>NaN</td>\n",
       "      <td>NaN</td>\n",
       "      <td>NaN</td>\n",
       "      <td>7P5s</td>\n",
       "      <td>RAYp</td>\n",
       "      <td>F2FyR07IdsN7I</td>\n",
       "      <td>NaN</td>\n",
       "      <td>NaN</td>\n",
       "      <td>0</td>\n",
       "    </tr>\n",
       "  </tbody>\n",
       "</table>\n",
       "<p>5 rows × 232 columns</p>\n",
       "</div>"
      ],
      "text/plain": [
       "   cust_id  Var1  Var2  Var3  Var4  Var5    Var6  Var7  Var8  Var9  ...  \\\n",
       "0        3   NaN   NaN   NaN   NaN   NaN  1351.0   7.0   NaN   NaN  ...   \n",
       "1        4   NaN   NaN   NaN   NaN   NaN   644.0   0.0   NaN   NaN  ...   \n",
       "2        7   NaN   NaN   NaN   NaN   NaN  2583.0   0.0   NaN   NaN  ...   \n",
       "3        8   NaN   NaN   NaN   NaN   NaN  1463.0   7.0   NaN   NaN  ...   \n",
       "4        9   NaN   NaN   NaN   NaN   NaN    77.0   0.0   NaN   NaN  ...   \n",
       "\n",
       "    Var222      Var223  Var224  Var225  Var226  Var227         Var228  Var229  \\\n",
       "0  catzS2D  LM8l689qOp     NaN    ELof    7P5s    ZI9m           NoEd    mj86   \n",
       "1  76DJixu  LM8l689qOp     NaN     NaN    7P5s    RAYp  F2FyR07IdsN7I     NaN   \n",
       "2  I5dzv5f  LM8l689qOp     NaN     NaN    FSa2    RAYp  F2FyR07IdsN7I     NaN   \n",
       "3  xwyAw04  LM8l689qOp     NaN    kG3k    fKCe    RAYp  F2FyR07IdsN7I    mj86   \n",
       "4  76DJixu         NaN     NaN     NaN    7P5s    RAYp  F2FyR07IdsN7I     NaN   \n",
       "\n",
       "   Var230  churn  \n",
       "0     NaN      0  \n",
       "1     NaN      0  \n",
       "2     NaN      1  \n",
       "3     NaN      0  \n",
       "4     NaN      0  \n",
       "\n",
       "[5 rows x 232 columns]"
      ]
     },
     "execution_count": 5,
     "metadata": {},
     "output_type": "execute_result"
    }
   ],
   "source": [
    "# Print out to check the data\n",
    "print(train.dtypes.value_counts())\n",
    "train.head()"
   ]
  },
  {
   "cell_type": "markdown",
   "metadata": {},
   "source": [
    "#### (b) Create a list of column names to manage variables"
   ]
  },
  {
   "cell_type": "code",
   "execution_count": 6,
   "metadata": {},
   "outputs": [],
   "source": [
    "# List of numerical and catergorical variables\n",
    "id_var = [\"cust_id\"]  # ID\n",
    "num_vars = train.columns[1:191].tolist()  # First 190 vars\n",
    "cat_vars = train.columns[191:231].tolist()  # Last 40 vars\n",
    "# Target get variable\n",
    "target_var = [\"churn\"]"
   ]
  },
  {
   "cell_type": "markdown",
   "metadata": {},
   "source": [
    "#### (c) Check the target variable class distribution"
   ]
  },
  {
   "cell_type": "code",
   "execution_count": 7,
   "metadata": {},
   "outputs": [
    {
     "name": "stdout",
     "output_type": "stream",
     "text": [
      "churn\n",
      "0        9264\n",
      "1         736\n",
      "dtype: int64\n",
      "churn\n",
      "0        0.9264\n",
      "1        0.0736\n",
      "dtype: float64\n"
     ]
    }
   ],
   "source": [
    "# By number\n",
    "print(train[target_var].value_counts())\n",
    "# By percentage\n",
    "print(train[target_var].value_counts(normalize=True))"
   ]
  },
  {
   "cell_type": "markdown",
   "metadata": {},
   "source": [
    "## 2. Processing data"
   ]
  },
  {
   "cell_type": "markdown",
   "metadata": {},
   "source": [
    "### 2.1. Error, data correction"
   ]
  },
  {
   "cell_type": "markdown",
   "metadata": {},
   "source": [
    "#### (a) Check and correct data error - Constant variables\n",
    "\n",
    "Constant variables on train do not contain information and may cause data processing or model training error."
   ]
  },
  {
   "cell_type": "code",
   "execution_count": 8,
   "metadata": {},
   "outputs": [
    {
     "name": "stdout",
     "output_type": "stream",
     "text": [
      "Drop constant variable: ['Var8', 'Var15', 'Var20', 'Var31', 'Var32', 'Var39', 'Var42', 'Var48', 'Var52', 'Var55', 'Var79', 'Var141', 'Var167', 'Var169', 'Var175', 'Var185', 'Var209', 'Var230']\n"
     ]
    }
   ],
   "source": [
    "# Count number of unique values of each variable\n",
    "vars_nunique = train[num_vars + cat_vars].apply(pd.Series.nunique, dropna=False, axis=0)\n",
    "cont_vars = vars_nunique.index[vars_nunique < 2].tolist()\n",
    "print(\"Drop constant variable:\", cont_vars)\n",
    "# Correct variable list\n",
    "num_vars = [v for v in num_vars if v not in cont_vars]\n",
    "cat_vars = [v for v in cat_vars if v not in cont_vars]\n",
    "# Update train, test\n",
    "train = train[id_var+num_vars+cat_vars+target_var]\n",
    "test = test[id_var+num_vars+cat_vars]"
   ]
  },
  {
   "cell_type": "markdown",
   "metadata": {},
   "source": [
    "#### (b) Check and correct data error - Missing values\n",
    "\n",
    "<u>Note:</u>\n",
    "- Always create indicators (dummy variable) to track the missing values imputation.\n",
    "- Since we already filtered out the constant NA vars, the imputor will not drop any vars."
   ]
  },
  {
   "cell_type": "code",
   "execution_count": 9,
   "metadata": {},
   "outputs": [
    {
     "name": "stdout",
     "output_type": "stream",
     "text": [
      "Train - # NA of num vars: 1345535\n",
      "Train - # NA of cat vars: 79067\n",
      "Test - # NA of num vars: 1345234\n",
      "Test - # NA of cat vars: 79296\n"
     ]
    }
   ],
   "source": [
    "# Check missing value\n",
    "print('Train - # NA of num vars:', train[num_vars].isna().sum().sum())\n",
    "print('Train - # NA of cat vars:', train[cat_vars].isna().sum().sum())\n",
    "print('Test - # NA of num vars:', test[num_vars].isna().sum().sum())\n",
    "print('Test - # NA of cat vars:', test[cat_vars].isna().sum().sum())"
   ]
  },
  {
   "cell_type": "code",
   "execution_count": 10,
   "metadata": {},
   "outputs": [],
   "source": [
    "# List dummary variables to track missing values imputation\n",
    "na_vars = []"
   ]
  },
  {
   "cell_type": "code",
   "execution_count": 11,
   "metadata": {},
   "outputs": [],
   "source": [
    "# Numerical variables\n",
    "# Build the missing value imputor using the mean\n",
    "imp = SimpleImputer(missing_values=np.nan, strategy='mean', add_indicator=True)\n",
    "imp.fit(train[num_vars])\n",
    "# Reconstruct the list of vars + indicators\n",
    "na_vars = na_vars + [num_vars[v] + \"_na\" for v in imp.indicator_.features_]\n",
    "impute_vars = num_vars + na_vars\n",
    "# Apply on train, test\n",
    "train[impute_vars] = pd.DataFrame(imp.transform(train[num_vars]), columns=impute_vars)\n",
    "test[impute_vars] = pd.DataFrame(imp.transform(test[num_vars]), columns=impute_vars)"
   ]
  },
  {
   "cell_type": "code",
   "execution_count": 12,
   "metadata": {},
   "outputs": [],
   "source": [
    "# Categorical variables\n",
    "# Impute missing value using a new category \"Missing\"\n",
    "# Note: If the categorical vars are imputed by most_frequent, the indicators should be added\n",
    "train[cat_vars] = train[cat_vars].fillna('Missing')\n",
    "test[cat_vars] = test[cat_vars].fillna('Missing')"
   ]
  },
  {
   "cell_type": "markdown",
   "metadata": {},
   "source": [
    "#### (c) Check and correct data error - Outliers in numerical variables\n",
    "\n",
    "Here, we only check but not impute the outliers.\n",
    "\n",
    "<u>Note:</u>\n",
    "- Before correcting outliers, make sure to understand the nature of the error.\n",
    "- Do not need to correct outliers for missing values indicators."
   ]
  },
  {
   "cell_type": "code",
   "execution_count": 13,
   "metadata": {},
   "outputs": [
    {
     "name": "stdout",
     "output_type": "stream",
     "text": [
      "Var1 has # outliers on train, test : 21 [ 0.21 % ] 21 [ 0.21 % ]\n",
      "Var3 has # outliers on train, test : 12 [ 0.12 % ] 3 [ 0.03 % ]\n",
      "Var4 has # outliers on train, test : 2 [ 0.02 % ] 3 [ 0.03 % ]\n",
      "Var5 has # outliers on train, test : 27 [ 0.27 % ] 29 [ 0.29 % ]\n",
      "Var6 has # outliers on train, test : 85 [ 0.85 % ] 85 [ 0.85 % ]\n",
      "Var7 has # outliers on train, test : 214 [ 2.14 % ] 190 [ 1.9 % ]\n",
      "Var9 has # outliers on train, test : 66 [ 0.66 % ] 76 [ 0.76 % ]\n",
      "Var10 has # outliers on train, test : 37 [ 0.37 % ] 32 [ 0.32 % ]\n",
      "Var11 has # outliers on train, test : 18 [ 0.18 % ] 14 [ 0.14 % ]\n",
      "Var12 has # outliers on train, test : 75 [ 0.75 % ] 81 [ 0.81 % ]\n",
      "Var13 has # outliers on train, test : 85 [ 0.85 % ] 72 [ 0.72 % ]\n",
      "Var14 has # outliers on train, test : 14 [ 0.14 % ] 11 [ 0.11 % ]\n",
      "Var16 has # outliers on train, test : 200 [ 2.0 % ] 174 [ 1.74 % ]\n",
      "Var17 has # outliers on train, test : 32 [ 0.32 % ] 37 [ 0.37 % ]\n",
      "Var18 has # outliers on train, test : 12 [ 0.12 % ] 18 [ 0.18 % ]\n",
      "Var19 has # outliers on train, test : 7 [ 0.07 % ] 6 [ 0.06 % ]\n",
      "Var21 has # outliers on train, test : 64 [ 0.64 % ] 67 [ 0.67 % ]\n",
      "Var22 has # outliers on train, test : 65 [ 0.65 % ] 66 [ 0.66 % ]\n",
      "Var23 has # outliers on train, test : 39 [ 0.39 % ] 42 [ 0.42 % ]\n",
      "Var24 has # outliers on train, test : 77 [ 0.77 % ] 97 [ 0.97 % ]\n",
      "Var25 has # outliers on train, test : 78 [ 0.78 % ] 83 [ 0.83 % ]\n",
      "Var26 has # outliers on train, test : 3 [ 0.03 % ] 5 [ 0.05 % ]\n",
      "Var27 has # outliers on train, test : 5 [ 0.05 % ] 6 [ 0.06 % ]\n",
      "Var28 has # outliers on train, test : 131 [ 1.31 % ] 138 [ 1.38 % ]\n",
      "Var29 has # outliers on train, test : 0 [ 0.0 % ] 1 [ 0.01 % ]\n",
      "Var30 has # outliers on train, test : 125 [ 1.25 % ] 141 [ 1.41 % ]\n",
      "Var33 has # outliers on train, test : 113 [ 1.13 % ] 127 [ 1.27 % ]\n",
      "Var34 has # outliers on train, test : 25 [ 0.25 % ] 21 [ 0.21 % ]\n",
      "Var35 has # outliers on train, test : 258 [ 2.58 % ] 320 [ 3.2 % ]\n",
      "Var36 has # outliers on train, test : 43 [ 0.43 % ] 42 [ 0.42 % ]\n",
      "Var37 has # outliers on train, test : 63 [ 0.63 % ] 59 [ 0.59 % ]\n",
      "Var38 has # outliers on train, test : 96 [ 0.96 % ] 116 [ 1.16 % ]\n",
      "Var40 has # outliers on train, test : 33 [ 0.33 % ] 23 [ 0.23 % ]\n",
      "Var41 has # outliers on train, test : 85 [ 0.85 % ] 97 [ 0.97 % ]\n",
      "Var43 has # outliers on train, test : 39 [ 0.39 % ] 29 [ 0.29 % ]\n",
      "Var44 has # outliers on train, test : 138 [ 1.38 % ] 133 [ 1.33 % ]\n",
      "Var45 has # outliers on train, test : 65 [ 0.65 % ] 51 [ 0.51 % ]\n",
      "Var46 has # outliers on train, test : 14 [ 0.14 % ] 15 [ 0.15 % ]\n",
      "Var47 has # outliers on train, test : 9 [ 0.09 % ] 14 [ 0.14 % ]\n",
      "Var49 has # outliers on train, test : 5 [ 0.05 % ] 2 [ 0.02 % ]\n",
      "Var50 has # outliers on train, test : 13 [ 0.13 % ] 14 [ 0.14 % ]\n",
      "Var51 has # outliers on train, test : 108 [ 1.08 % ] 119 [ 1.19 % ]\n",
      "Var53 has # outliers on train, test : 95 [ 0.95 % ] 102 [ 1.02 % ]\n",
      "Var54 has # outliers on train, test : 172 [ 1.72 % ] 153 [ 1.53 % ]\n",
      "Var56 has # outliers on train, test : 118 [ 1.18 % ] 92 [ 0.92 % ]\n",
      "Var58 has # outliers on train, test : 14 [ 0.14 % ] 9 [ 0.09 % ]\n",
      "Var59 has # outliers on train, test : 107 [ 1.07 % ] 98 [ 0.98 % ]\n",
      "Var60 has # outliers on train, test : 39 [ 0.39 % ] 29 [ 0.29 % ]\n",
      "Var61 has # outliers on train, test : 104 [ 1.04 % ] 106 [ 1.06 % ]\n",
      "Var62 has # outliers on train, test : 102 [ 1.02 % ] 109 [ 1.09 % ]\n",
      "Var63 has # outliers on train, test : 76 [ 0.76 % ] 85 [ 0.85 % ]\n",
      "Var64 has # outliers on train, test : 41 [ 0.41 % ] 30 [ 0.3 % ]\n",
      "Var65 has # outliers on train, test : 347 [ 3.47 % ] 313 [ 3.13 % ]\n",
      "Var66 has # outliers on train, test : 66 [ 0.66 % ] 76 [ 0.76 % ]\n",
      "Var67 has # outliers on train, test : 1 [ 0.01 % ] 0 [ 0.0 % ]\n",
      "Var68 has # outliers on train, test : 20 [ 0.2 % ] 19 [ 0.19 % ]\n",
      "Var69 has # outliers on train, test : 237 [ 2.37 % ] 202 [ 2.02 % ]\n",
      "Var70 has # outliers on train, test : 46 [ 0.46 % ] 50 [ 0.5 % ]\n",
      "Var71 has # outliers on train, test : 114 [ 1.14 % ] 99 [ 0.99 % ]\n",
      "Var72 has # outliers on train, test : 184 [ 1.84 % ] 159 [ 1.59 % ]\n",
      "Var73 has # outliers on train, test : 31 [ 0.31 % ] 31 [ 0.31 % ]\n",
      "Var74 has # outliers on train, test : 47 [ 0.47 % ] 31 [ 0.31 % ]\n",
      "Var75 has # outliers on train, test : 140 [ 1.4 % ] 132 [ 1.32 % ]\n",
      "Var76 has # outliers on train, test : 73 [ 0.73 % ] 102 [ 1.02 % ]\n",
      "Var77 has # outliers on train, test : 101 [ 1.01 % ] 118 [ 1.18 % ]\n",
      "Var78 has # outliers on train, test : 235 [ 2.35 % ] 207 [ 2.07 % ]\n",
      "Var80 has # outliers on train, test : 26 [ 0.26 % ] 24 [ 0.24 % ]\n",
      "Var81 has # outliers on train, test : 95 [ 0.95 % ] 97 [ 0.97 % ]\n",
      "Var82 has # outliers on train, test : 174 [ 1.74 % ] 189 [ 1.89 % ]\n",
      "Var83 has # outliers on train, test : 60 [ 0.6 % ] 55 [ 0.55 % ]\n",
      "Var84 has # outliers on train, test : 12 [ 0.12 % ] 10 [ 0.1 % ]\n",
      "Var85 has # outliers on train, test : 95 [ 0.95 % ] 80 [ 0.8 % ]\n",
      "Var86 has # outliers on train, test : 106 [ 1.06 % ] 123 [ 1.23 % ]\n",
      "Var87 has # outliers on train, test : 73 [ 0.73 % ] 77 [ 0.77 % ]\n",
      "Var88 has # outliers on train, test : 23 [ 0.23 % ] 25 [ 0.25 % ]\n",
      "Var89 has # outliers on train, test : 21 [ 0.21 % ] 17 [ 0.17 % ]\n",
      "Var90 has # outliers on train, test : 1 [ 0.01 % ] 0 [ 0.0 % ]\n",
      "Var91 has # outliers on train, test : 114 [ 1.14 % ] 99 [ 0.99 % ]\n",
      "Var92 has # outliers on train, test : 33 [ 0.33 % ] 23 [ 0.23 % ]\n",
      "Var93 has # outliers on train, test : 13 [ 0.13 % ] 19 [ 0.19 % ]\n",
      "Var94 has # outliers on train, test : 166 [ 1.66 % ] 180 [ 1.8 % ]\n",
      "Var95 has # outliers on train, test : 22 [ 0.22 % ] 21 [ 0.21 % ]\n",
      "Var96 has # outliers on train, test : 11 [ 0.11 % ] 14 [ 0.14 % ]\n",
      "Var97 has # outliers on train, test : 27 [ 0.27 % ] 18 [ 0.18 % ]\n",
      "Var98 has # outliers on train, test : 14 [ 0.14 % ] 3 [ 0.03 % ]\n",
      "Var99 has # outliers on train, test : 33 [ 0.33 % ] 42 [ 0.42 % ]\n",
      "Var100 has # outliers on train, test : 12 [ 0.12 % ] 11 [ 0.11 % ]\n",
      "Var101 has # outliers on train, test : 10 [ 0.1 % ] 16 [ 0.16 % ]\n",
      "Var102 has # outliers on train, test : 75 [ 0.75 % ] 70 [ 0.7 % ]\n",
      "Var103 has # outliers on train, test : 29 [ 0.29 % ] 25 [ 0.25 % ]\n",
      "Var104 has # outliers on train, test : 103 [ 1.03 % ] 110 [ 1.1 % ]\n",
      "Var105 has # outliers on train, test : 103 [ 1.03 % ] 110 [ 1.1 % ]\n",
      "Var106 has # outliers on train, test : 22 [ 0.22 % ] 32 [ 0.32 % ]\n",
      "Var107 has # outliers on train, test : 32 [ 0.32 % ] 40 [ 0.4 % ]\n",
      "Var108 has # outliers on train, test : 103 [ 1.03 % ] 109 [ 1.09 % ]\n",
      "Var109 has # outliers on train, test : 85 [ 0.85 % ] 92 [ 0.92 % ]\n",
      "Var110 has # outliers on train, test : 11 [ 0.11 % ] 8 [ 0.08 % ]\n",
      "Var111 has # outliers on train, test : 135 [ 1.35 % ] 116 [ 1.16 % ]\n",
      "Var112 has # outliers on train, test : 68 [ 0.68 % ] 78 [ 0.78 % ]\n",
      "Var113 has # outliers on train, test : 187 [ 1.87 % ] 190 [ 1.9 % ]\n",
      "Var114 has # outliers on train, test : 206 [ 2.06 % ] 176 [ 1.76 % ]\n",
      "Var115 has # outliers on train, test : 108 [ 1.08 % ] 103 [ 1.03 % ]\n",
      "Var116 has # outliers on train, test : 1 [ 0.01 % ] 4 [ 0.04 % ]\n",
      "Var117 has # outliers on train, test : 47 [ 0.47 % ] 43 [ 0.43 % ]\n",
      "Var119 has # outliers on train, test : 83 [ 0.83 % ] 89 [ 0.89 % ]\n",
      "Var120 has # outliers on train, test : 31 [ 0.31 % ] 24 [ 0.24 % ]\n",
      "Var121 has # outliers on train, test : 78 [ 0.78 % ] 90 [ 0.9 % ]\n",
      "Var122 has # outliers on train, test : 1 [ 0.01 % ] 4 [ 0.04 % ]\n",
      "Var123 has # outliers on train, test : 46 [ 0.46 % ] 45 [ 0.45 % ]\n",
      "Var124 has # outliers on train, test : 33 [ 0.33 % ] 30 [ 0.3 % ]\n",
      "Var125 has # outliers on train, test : 47 [ 0.47 % ] 58 [ 0.58 % ]\n",
      "Var126 has # outliers on train, test : 118 [ 1.18 % ] 122 [ 1.22 % ]\n",
      "Var127 has # outliers on train, test : 10 [ 0.1 % ] 16 [ 0.16 % ]\n",
      "Var128 has # outliers on train, test : 23 [ 0.23 % ] 25 [ 0.25 % ]\n",
      "Var129 has # outliers on train, test : 69 [ 0.69 % ] 74 [ 0.74 % ]\n",
      "Var130 has # outliers on train, test : 44 [ 0.44 % ] 32 [ 0.32 % ]\n",
      "Var131 has # outliers on train, test : 3 [ 0.03 % ] 6 [ 0.06 % ]\n",
      "Var132 has # outliers on train, test : 327 [ 3.27 % ] 344 [ 3.44 % ]\n",
      "Var133 has # outliers on train, test : 164 [ 1.64 % ] 186 [ 1.86 % ]\n",
      "Var134 has # outliers on train, test : 231 [ 2.31 % ] 220 [ 2.2 % ]\n",
      "Var135 has # outliers on train, test : 199 [ 1.99 % ] 195 [ 1.95 % ]\n",
      "Var136 has # outliers on train, test : 84 [ 0.84 % ] 100 [ 1.0 % ]\n",
      "Var137 has # outliers on train, test : 10 [ 0.1 % ] 12 [ 0.12 % ]\n",
      "Var138 has # outliers on train, test : 1 [ 0.01 % ] 0 [ 0.0 % ]\n",
      "Var139 has # outliers on train, test : 42 [ 0.42 % ] 46 [ 0.46 % ]\n",
      "Var140 has # outliers on train, test : 178 [ 1.78 % ] 186 [ 1.86 % ]\n",
      "Var142 has # outliers on train, test : 125 [ 1.25 % ] 141 [ 1.41 % ]\n",
      "Var143 has # outliers on train, test : 66 [ 0.66 % ] 93 [ 0.93 % ]\n",
      "Var144 has # outliers on train, test : 223 [ 2.23 % ] 220 [ 2.2 % ]\n",
      "Var145 has # outliers on train, test : 26 [ 0.26 % ] 29 [ 0.29 % ]\n",
      "Var146 has # outliers on train, test : 28 [ 0.28 % ] 12 [ 0.12 % ]\n",
      "Var147 has # outliers on train, test : 160 [ 1.6 % ] 147 [ 1.47 % ]\n",
      "Var148 has # outliers on train, test : 33 [ 0.33 % ] 36 [ 0.36 % ]\n",
      "Var149 has # outliers on train, test : 118 [ 1.18 % ] 129 [ 1.29 % ]\n",
      "Var150 has # outliers on train, test : 44 [ 0.44 % ] 41 [ 0.41 % ]\n",
      "Var151 has # outliers on train, test : 113 [ 1.13 % ] 121 [ 1.21 % ]\n",
      "Var152 has # outliers on train, test : 131 [ 1.31 % ] 138 [ 1.38 % ]\n",
      "Var154 has # outliers on train, test : 102 [ 1.02 % ] 125 [ 1.25 % ]\n",
      "Var155 has # outliers on train, test : 27 [ 0.27 % ] 28 [ 0.28 % ]\n",
      "Var156 has # outliers on train, test : 66 [ 0.66 % ] 76 [ 0.76 % ]\n",
      "Var157 has # outliers on train, test : 140 [ 1.4 % ] 122 [ 1.22 % ]\n",
      "Var158 has # outliers on train, test : 17 [ 0.17 % ] 24 [ 0.24 % ]\n",
      "Var159 has # outliers on train, test : 32 [ 0.32 % ] 30 [ 0.3 % ]\n",
      "Var160 has # outliers on train, test : 69 [ 0.69 % ] 72 [ 0.72 % ]\n",
      "Var161 has # outliers on train, test : 59 [ 0.59 % ] 58 [ 0.58 % ]\n",
      "Var162 has # outliers on train, test : 28 [ 0.28 % ] 15 [ 0.15 % ]\n",
      "Var163 has # outliers on train, test : 209 [ 2.09 % ] 247 [ 2.47 % ]\n",
      "Var164 has # outliers on train, test : 18 [ 0.18 % ] 24 [ 0.24 % ]\n",
      "Var165 has # outliers on train, test : 21 [ 0.21 % ] 15 [ 0.15 % ]\n",
      "Var166 has # outliers on train, test : 32 [ 0.32 % ] 37 [ 0.37 % ]\n",
      "Var168 has # outliers on train, test : 90 [ 0.9 % ] 93 [ 0.93 % ]\n",
      "Var170 has # outliers on train, test : 43 [ 0.43 % ] 32 [ 0.32 % ]\n",
      "Var171 has # outliers on train, test : 130 [ 1.3 % ] 150 [ 1.5 % ]\n",
      "Var172 has # outliers on train, test : 132 [ 1.32 % ] 103 [ 1.03 % ]\n",
      "Var173 has # outliers on train, test : 31 [ 0.31 % ] 37 [ 0.37 % ]\n",
      "Var174 has # outliers on train, test : 34 [ 0.34 % ] 38 [ 0.38 % ]\n",
      "Var176 has # outliers on train, test : 18 [ 0.18 % ] 14 [ 0.14 % ]\n",
      "Var177 has # outliers on train, test : 44 [ 0.44 % ] 30 [ 0.3 % ]\n",
      "Var178 has # outliers on train, test : 57 [ 0.57 % ] 55 [ 0.55 % ]\n"
     ]
    },
    {
     "name": "stdout",
     "output_type": "stream",
     "text": [
      "Var179 has # outliers on train, test : 8 [ 0.08 % ] 10 [ 0.1 % ]\n",
      "Var180 has # outliers on train, test : 109 [ 1.09 % ] 122 [ 1.22 % ]\n",
      "Var181 has # outliers on train, test : 173 [ 1.73 % ] 153 [ 1.53 % ]\n",
      "Var182 has # outliers on train, test : 215 [ 2.15 % ] 238 [ 2.38 % ]\n",
      "Var183 has # outliers on train, test : 31 [ 0.31 % ] 18 [ 0.18 % ]\n",
      "Var184 has # outliers on train, test : 35 [ 0.35 % ] 27 [ 0.27 % ]\n",
      "Var186 has # outliers on train, test : 125 [ 1.25 % ] 141 [ 1.41 % ]\n",
      "Var187 has # outliers on train, test : 56 [ 0.56 % ] 58 [ 0.58 % ]\n",
      "Var188 has # outliers on train, test : 189 [ 1.89 % ] 160 [ 1.6 % ]\n",
      "Var189 has # outliers on train, test : 124 [ 1.24 % ] 137 [ 1.37 % ]\n",
      "Var190 has # outliers on train, test : 40 [ 0.4 % ] 52 [ 0.52 % ]\n"
     ]
    }
   ],
   "source": [
    "# Check the outliers on train, test\n",
    "for v in num_vars:\n",
    "    # Calculate the boundaries on train [mean-3*sd, mean+3*sd]\n",
    "    mu = np.mean(train[v])\n",
    "    sd = np.std(train[v])\n",
    "    lower = mu - 3*sd\n",
    "    upper = mu + 3*sd\n",
    "    # Check outliers using the boundaries\n",
    "    train_out = (train[v] < lower) | (train[v] > upper)\n",
    "    test_out = (test[v] < lower) | (test[v] > upper)\n",
    "    if np.sum(train_out) + np.sum(test_out) > 0:\n",
    "        print(v, \"has # outliers on train, test :\",\n",
    "              np.sum(train_out), \"[\", np.round(100*np.mean(train_out), 2), \"% ]\",\n",
    "              np.sum(test_out), \"[\", np.round(100*np.mean(test_out), 2), \"% ]\")"
   ]
  },
  {
   "cell_type": "markdown",
   "metadata": {},
   "source": [
    "#### (d) Encode categorical variables\n",
    "\n",
    "In Python, most of the machine learning libraries will not handle non-numerical values of categorical varibales (e.g. RF). Therefore, we should encoded the categories using integer values.\n",
    "\n",
    "<u>Note:</u>\n",
    "- Here, the encoder is fitted on both train and test. Therefore, in a few special cases, there are unique categories that appear only on train, or test."
   ]
  },
  {
   "cell_type": "code",
   "execution_count": 14,
   "metadata": {},
   "outputs": [],
   "source": [
    "# Encode categorical variables as integer values\n",
    "# Note: All the NA values were imputed previously\n",
    "enc = OrdinalEncoder()\n",
    "enc.fit(pd.concat([train[cat_vars], test[cat_vars]], axis=0))\n",
    "# Apply on train, test\n",
    "train[cat_vars] = enc.transform(train[cat_vars])\n",
    "test[cat_vars] = enc.transform(test[cat_vars])"
   ]
  },
  {
   "cell_type": "markdown",
   "metadata": {},
   "source": [
    "#### (e) Finalize the processed data\n",
    "\n",
    "Current lists of variables:\n",
    "- id_var : customer ID\n",
    "- num_vars : numerical variables\n",
    "- cat_vars : categorical variables\n",
    "- na_vars : indicators for tracking missing values, bool [False, True]\n",
    "- target_var : target variable, churn [0, 1]\n",
    "\n",
    "<u>Note:</u> If there are any variables exist in only train or test, drop them from all the data."
   ]
  },
  {
   "cell_type": "code",
   "execution_count": 15,
   "metadata": {},
   "outputs": [],
   "source": [
    "# Convert bool variable to int\n",
    "train[na_vars] = train[na_vars].astype(np.int8)\n",
    "test[na_vars] = test[na_vars].astype(np.int8)"
   ]
  },
  {
   "cell_type": "code",
   "execution_count": 16,
   "metadata": {},
   "outputs": [
    {
     "name": "stdout",
     "output_type": "stream",
     "text": [
      "# id_var [ 1 ] : ['cust_id']\n",
      "# num_vars [ 174 ] : ['Var1', 'Var2', 'Var3', 'Var4', 'Var5'] ...\n",
      "# cat_vars [ 38 ] : ['Var191', 'Var192', 'Var193', 'Var194', 'Var195'] ...\n",
      "# na_vars [ 171 ] : ['Var1_na', 'Var2_na', 'Var3_na', 'Var4_na', 'Var5_na'] ...\n",
      "# target_var [ 1 ] : ['churn']\n"
     ]
    }
   ],
   "source": [
    "# Print out the final variables\n",
    "print(\"# id_var [\", len(id_var), \"] :\", id_var)\n",
    "print(\"# num_vars [\", len(num_vars), \"] :\", num_vars[:5], \"...\")\n",
    "print(\"# cat_vars [\", len(cat_vars), \"] :\", cat_vars[:5], \"...\")\n",
    "print(\"# na_vars [\", len(na_vars), \"] :\", na_vars[:5], \"...\")\n",
    "print(\"# target_var [\", len(target_var), \"] :\", target_var)"
   ]
  },
  {
   "cell_type": "code",
   "execution_count": 17,
   "metadata": {},
   "outputs": [
    {
     "name": "stdout",
     "output_type": "stream",
     "text": [
      "(10000, 385)\n",
      "(10000, 384)\n"
     ]
    }
   ],
   "source": [
    "# Sort the data according to the variables list\n",
    "train = train[id_var + num_vars + cat_vars + na_vars + target_var]\n",
    "test = test[id_var + num_vars + cat_vars + na_vars]\n",
    "print(train.shape)\n",
    "print(test.shape)"
   ]
  },
  {
   "cell_type": "markdown",
   "metadata": {},
   "source": [
    "### 2.2. Feature engineering\n",
    "\n",
    "Since every variables are anonymized, we cannot create new variables based the meaning of current variables.\n",
    "\n",
    "In other case, we can use the following hints:\n",
    "- Quickly check the potentially important variables.\n",
    "- Focus on the most important variables to create new variables.\n",
    "- Create a cross variable framework (e.g. customer activities, date-time, events, etc.) for searching the new variables."
   ]
  },
  {
   "cell_type": "markdown",
   "metadata": {},
   "source": [
    "#### (a) Quickly detect most (potentially) important varriables - Correlation test for numerical variables"
   ]
  },
  {
   "cell_type": "code",
   "execution_count": 18,
   "metadata": {},
   "outputs": [
    {
     "name": "stdout",
     "output_type": "stream",
     "text": [
      "Top 5 vars [+] correlated with target var :\n",
      "Var113    0.054660\n",
      "Var131    0.033685\n",
      "Var126    0.030609\n",
      "Var173    0.029983\n",
      "Var81     0.028262\n",
      "Name: churn, dtype: float64\n",
      "Top 5 vars [-] correlated with target var :\n",
      "Var189   -0.087654\n",
      "Var73    -0.073407\n",
      "Var7     -0.059302\n",
      "Var65    -0.047361\n",
      "Var13    -0.039086\n",
      "Name: churn, dtype: float64\n"
     ]
    }
   ],
   "source": [
    "# Pearson's correlation for numerical variables\n",
    "corr = train[num_vars + target_var].corr(method='pearson')\n",
    "corr = corr['churn'][:-1].dropna()\n",
    "print(\"Top 5 vars [+] correlated with target var :\"); print(corr.sort_values(ascending=False)[:5])\n",
    "print(\"Top 5 vars [-] correlated with target var :\"); print(corr.sort_values(ascending=True)[:5])"
   ]
  },
  {
   "cell_type": "markdown",
   "metadata": {},
   "source": [
    "#### (b) Quickly detect most (potentially) important varriables - Mutual information\n",
    "\n",
    "<u>Reference:</u>\n",
    "- Mutual information. Link: https://en.wikipedia.org/wiki/Mutual_information\n",
    "- sklearn.feature_selection.mutual_info_classif. Link: https://scikit-learn.org/stable/modules/generated/sklearn.feature_selection.mutual_info_classif.html"
   ]
  },
  {
   "cell_type": "code",
   "execution_count": 19,
   "metadata": {},
   "outputs": [
    {
     "name": "stdout",
     "output_type": "stream",
     "text": [
      "Top 10 vars :\n",
      "Var193    0.009399\n",
      "Var210    0.008983\n",
      "Var217    0.007949\n",
      "Var205    0.006955\n",
      "Var218    0.006935\n",
      "Var221    0.006823\n",
      "Var212    0.006762\n",
      "Var202    0.005104\n",
      "Var192    0.005007\n",
      "Var208    0.004731\n",
      "dtype: float64\n"
     ]
    }
   ],
   "source": [
    "# Check mutual information for all variables\n",
    "# Note: The calculation involves a random process, therefore, the result may change if there is no\n",
    "# variable with significant information.\n",
    "mutual_info = mutual_info_classif(train[cat_vars], train[target_var].values.squeeze())\n",
    "mutual_info = pd.Series(mutual_info, index=cat_vars)\n",
    "print(\"Top 10 vars :\"); print(mutual_info.sort_values(ascending=False)[:10])"
   ]
  },
  {
   "cell_type": "markdown",
   "metadata": {},
   "source": [
    "####  (a) Variable selection: Fisher Score"
   ]
  },
  {
   "cell_type": "code",
   "execution_count": 26,
   "metadata": {},
   "outputs": [],
   "source": [
    "# Create several lists to handle variables\n",
    "id_var = ['cust_id']\n",
    "target_var = ['churn']\n",
    "predictors = [v for v in train.columns if v not in id_var + target_var]"
   ]
  },
  {
   "cell_type": "code",
   "execution_count": 27,
   "metadata": {},
   "outputs": [],
   "source": [
    "def FisherScore(bt, target_var, predictors):\n",
    "    \"\"\"\n",
    "    This function calculate the Fisher score of a variable.\n",
    "\n",
    "    Ref:\n",
    "    ---\n",
    "    Verbeke, W., Dejaeger, K., Martens, D., Hur, J., & Baesens, B. (2012). New insights\n",
    "    into churn prediction in the telecommunication sector: A profit driven data mining\n",
    "    approach. European Journal of Operational Research, 218(1), 211-229.\n",
    "    \"\"\"\n",
    "    \n",
    "    # Get the unique values of dependent variable\n",
    "    target_var_val = bt[target_var].unique()\n",
    "    # Calculate FisherScore for each predictor\n",
    "    predictor_FisherScore = []\n",
    "    for v in predictors:\n",
    "        fs = np.abs(np.mean(bt.loc[bt[target_var]==target_var_val[0], v]) - np.mean(bt.loc[bt[target_var]==target_var_val[1], v])) / \\\n",
    "             np.sqrt(np.var(bt.loc[bt[target_var]==target_var_val[0], v]) + np.var(bt.loc[bt[target_var]==target_var_val[1], v]))\n",
    "        predictor_FisherScore.append(fs)\n",
    "    return predictor_FisherScore"
   ]
  },
  {
   "cell_type": "code",
   "execution_count": 28,
   "metadata": {},
   "outputs": [
    {
     "name": "stderr",
     "output_type": "stream",
     "text": [
      "<ipython-input-27-0c2aaa030081>:17: RuntimeWarning: invalid value encountered in double_scalars\n",
      "  fs = np.abs(np.mean(bt.loc[bt[target_var]==target_var_val[0], v]) - np.mean(bt.loc[bt[target_var]==target_var_val[1], v])) / \\\n",
      "<ipython-input-27-0c2aaa030081>:17: RuntimeWarning: invalid value encountered in double_scalars\n",
      "  fs = np.abs(np.mean(bt.loc[bt[target_var]==target_var_val[0], v]) - np.mean(bt.loc[bt[target_var]==target_var_val[1], v])) / \\\n",
      "<ipython-input-27-0c2aaa030081>:17: RuntimeWarning: invalid value encountered in double_scalars\n",
      "  fs = np.abs(np.mean(bt.loc[bt[target_var]==target_var_val[0], v]) - np.mean(bt.loc[bt[target_var]==target_var_val[1], v])) / \\\n"
     ]
    },
    {
     "data": {
      "text/html": [
       "<div>\n",
       "<style scoped>\n",
       "    .dataframe tbody tr th:only-of-type {\n",
       "        vertical-align: middle;\n",
       "    }\n",
       "\n",
       "    .dataframe tbody tr th {\n",
       "        vertical-align: top;\n",
       "    }\n",
       "\n",
       "    .dataframe thead th {\n",
       "        text-align: right;\n",
       "    }\n",
       "</style>\n",
       "<table border=\"1\" class=\"dataframe\">\n",
       "  <thead>\n",
       "    <tr style=\"text-align: right;\">\n",
       "      <th></th>\n",
       "      <th>predictor</th>\n",
       "      <th>fisherscore</th>\n",
       "    </tr>\n",
       "  </thead>\n",
       "  <tbody>\n",
       "    <tr>\n",
       "      <th>323</th>\n",
       "      <td>Var126_na</td>\n",
       "      <td>0.271197</td>\n",
       "    </tr>\n",
       "    <tr>\n",
       "      <th>172</th>\n",
       "      <td>Var189</td>\n",
       "      <td>0.230800</td>\n",
       "    </tr>\n",
       "    <tr>\n",
       "      <th>62</th>\n",
       "      <td>Var73</td>\n",
       "      <td>0.217568</td>\n",
       "    </tr>\n",
       "    <tr>\n",
       "      <th>200</th>\n",
       "      <td>Var218</td>\n",
       "      <td>0.196487</td>\n",
       "    </tr>\n",
       "    <tr>\n",
       "      <th>6</th>\n",
       "      <td>Var7</td>\n",
       "      <td>0.164765</td>\n",
       "    </tr>\n",
       "  </tbody>\n",
       "</table>\n",
       "</div>"
      ],
      "text/plain": [
       "     predictor  fisherscore\n",
       "323  Var126_na     0.271197\n",
       "172     Var189     0.230800\n",
       "62       Var73     0.217568\n",
       "200     Var218     0.196487\n",
       "6         Var7     0.164765"
      ]
     },
     "execution_count": 28,
     "metadata": {},
     "output_type": "execute_result"
    }
   ],
   "source": [
    "# Calculate Fisher Score for all variable\n",
    "fs = FisherScore(train, target_var[0], predictors)\n",
    "fs_df = pd.DataFrame({\"predictor\":predictors, \"fisherscore\":fs})\n",
    "fs_df = fs_df.sort_values('fisherscore', ascending=False)\n",
    "fs_df.head()"
   ]
  },
  {
   "cell_type": "code",
   "execution_count": 29,
   "metadata": {},
   "outputs": [
    {
     "data": {
      "image/png": "[encoded data removed]",
      "text/plain": [
       "<Figure size 432x288 with 1 Axes>"
      ]
     },
     "metadata": {
      "needs_background": "light"
     },
     "output_type": "display_data"
    }
   ],
   "source": [
    "# Visualize the Fisher Score\n",
    "plt.plot(fs_df['fisherscore'].values.squeeze())\n",
    "plt.axhline(y=0.01, linestyle='dashed', color='red')\n",
    "plt.axhline(y=0.03, linestyle='dashed', color='green')\n",
    "plt.xticks(rotation=45)\n",
    "plt.xlabel(str(fs_df.shape[0]) + ' predictors')\n",
    "plt.ylabel('Fisher Score')\n",
    "plt.legend(['Fisher Score', '0.01', '0.03'])\n",
    "plt.show()"
   ]
  },
  {
   "cell_type": "code",
   "execution_count": 30,
   "metadata": {},
   "outputs": [
    {
     "name": "stdout",
     "output_type": "stream",
     "text": [
      "Selected # vars : 50\n"
     ]
    },
    {
     "data": {
      "text/plain": [
       "array(['Var126_na', 'Var189', 'Var73', 'Var218', 'Var7', 'Var113',\n",
       "       'Var207', 'Var65', 'Var13', 'Var193', 'Var144', 'Var229', 'Var210',\n",
       "       'Var220', 'Var126', 'Var205', 'Var140', 'Var228', 'Var81',\n",
       "       'Var125', 'Var74', 'Var195', 'Var72', 'Var6', 'Var134',\n",
       "       'Var118_na', 'Var92_na', 'Var197', 'Var28', 'Var200', 'Var194',\n",
       "       'Var201', 'Var147', 'Var221', 'Var119', 'Var109', 'Var112',\n",
       "       'Var51', 'Var173', 'Var77', 'Var203', 'Var211', 'Var160', 'Var37',\n",
       "       'Var132', 'Var24', 'Var222', 'Var81_na', 'Var144_na', 'Var6_na'],\n",
       "      dtype=object)"
      ]
     },
     "execution_count": 30,
     "metadata": {},
     "output_type": "execute_result"
    }
   ],
   "source": [
    "# Select the top variables based on Fisher Score\n",
    "# top_fs_vars = fs_df[fs_df['fisherscore'] >= 0.03]['predictor'].values\n",
    "top_fs_vars = fs_df['predictor'].values[:50]\n",
    "print(\"Selected # vars :\", len(top_fs_vars))\n",
    "top_fs_vars"
   ]
  },
  {
   "cell_type": "markdown",
   "metadata": {},
   "source": [
    "#### (b) Dimensional Reduction: PCA"
   ]
  },
  {
   "cell_type": "code",
   "execution_count": 32,
   "metadata": {},
   "outputs": [
    {
     "name": "stdout",
     "output_type": "stream",
     "text": [
      "PVE = 0.9999999999945487\n"
     ]
    }
   ],
   "source": [
    "# Build PCA and check the explained variance\n",
    "# Note: If the num vars were scaled (but the dummy were not) PVE is no longer correct\n",
    "pca = PCA(n_components=100)\n",
    "pca.fit(train[predictors])\n",
    "print(\"PVE =\", pca.explained_variance_ratio_.sum())\n",
    "# Transform train, test\n",
    "train_pca = pca.transform(train[predictors])\n",
    "test_pca = pca.transform(test[predictors])"
   ]
  },
  {
   "cell_type": "code",
   "execution_count": 33,
   "metadata": {},
   "outputs": [
    {
     "data": {
      "image/png": "[encoded data removed]",
      "text/plain": [
       "<Figure size 432x288 with 1 Axes>"
      ]
     },
     "metadata": {
      "needs_background": "light"
     },
     "output_type": "display_data"
    }
   ],
   "source": [
    "# Visualize the PVE of PCA\n",
    "plt.plot(np.cumsum(pca.explained_variance_ratio_))\n",
    "plt.xlabel('PC')\n",
    "plt.ylabel('PVE')\n",
    "plt.show()"
   ]
  },
  {
   "cell_type": "markdown",
   "metadata": {},
   "source": [
    "## Basetable"
   ]
  },
  {
   "cell_type": "code",
   "execution_count": 42,
   "metadata": {},
   "outputs": [],
   "source": [
    "train_pca_df = pd.DataFrame(train_pca)\n",
    "test_pca_df = pd.DataFrame(test_pca)"
   ]
  },
  {
   "cell_type": "code",
   "execution_count": 44,
   "metadata": {},
   "outputs": [
    {
     "data": {
      "text/html": [
       "<div>\n",
       "<style scoped>\n",
       "    .dataframe tbody tr th:only-of-type {\n",
       "        vertical-align: middle;\n",
       "    }\n",
       "\n",
       "    .dataframe tbody tr th {\n",
       "        vertical-align: top;\n",
       "    }\n",
       "\n",
       "    .dataframe thead th {\n",
       "        text-align: right;\n",
       "    }\n",
       "</style>\n",
       "<table border=\"1\" class=\"dataframe\">\n",
       "  <thead>\n",
       "    <tr style=\"text-align: right;\">\n",
       "      <th></th>\n",
       "      <th>0</th>\n",
       "      <th>1</th>\n",
       "      <th>2</th>\n",
       "      <th>3</th>\n",
       "      <th>4</th>\n",
       "      <th>5</th>\n",
       "      <th>6</th>\n",
       "      <th>7</th>\n",
       "      <th>8</th>\n",
       "      <th>9</th>\n",
       "      <th>...</th>\n",
       "      <th>90</th>\n",
       "      <th>91</th>\n",
       "      <th>92</th>\n",
       "      <th>93</th>\n",
       "      <th>94</th>\n",
       "      <th>95</th>\n",
       "      <th>96</th>\n",
       "      <th>97</th>\n",
       "      <th>98</th>\n",
       "      <th>99</th>\n",
       "    </tr>\n",
       "  </thead>\n",
       "  <tbody>\n",
       "    <tr>\n",
       "      <th>0</th>\n",
       "      <td>4.120921e+06</td>\n",
       "      <td>1382.926563</td>\n",
       "      <td>2.618250e+05</td>\n",
       "      <td>6.033320e+05</td>\n",
       "      <td>-5.149695e+05</td>\n",
       "      <td>-6637.074611</td>\n",
       "      <td>-7.528463e+04</td>\n",
       "      <td>385215.727461</td>\n",
       "      <td>55236.920600</td>\n",
       "      <td>-144.246584</td>\n",
       "      <td>...</td>\n",
       "      <td>-4.197877</td>\n",
       "      <td>-0.809334</td>\n",
       "      <td>5.247311</td>\n",
       "      <td>-1.769750</td>\n",
       "      <td>-6.093992</td>\n",
       "      <td>1.623660</td>\n",
       "      <td>0.170005</td>\n",
       "      <td>6.351277</td>\n",
       "      <td>0.614337</td>\n",
       "      <td>4.847624</td>\n",
       "    </tr>\n",
       "    <tr>\n",
       "      <th>1</th>\n",
       "      <td>1.208672e+06</td>\n",
       "      <td>1126.443975</td>\n",
       "      <td>-1.615208e+06</td>\n",
       "      <td>-8.799284e+05</td>\n",
       "      <td>-6.591156e+05</td>\n",
       "      <td>-37307.011877</td>\n",
       "      <td>-4.190200e+05</td>\n",
       "      <td>-190482.880666</td>\n",
       "      <td>143341.238830</td>\n",
       "      <td>-1816.791105</td>\n",
       "      <td>...</td>\n",
       "      <td>2.923935</td>\n",
       "      <td>1.858305</td>\n",
       "      <td>20.208964</td>\n",
       "      <td>2.960141</td>\n",
       "      <td>4.557753</td>\n",
       "      <td>-1.202465</td>\n",
       "      <td>-0.806956</td>\n",
       "      <td>-18.726068</td>\n",
       "      <td>-1.345178</td>\n",
       "      <td>-11.643057</td>\n",
       "    </tr>\n",
       "    <tr>\n",
       "      <th>2</th>\n",
       "      <td>9.419038e+05</td>\n",
       "      <td>537.525459</td>\n",
       "      <td>-1.332966e+06</td>\n",
       "      <td>-5.601405e+05</td>\n",
       "      <td>1.531879e+06</td>\n",
       "      <td>-13119.961209</td>\n",
       "      <td>-1.348529e+05</td>\n",
       "      <td>-704117.095401</td>\n",
       "      <td>153799.187888</td>\n",
       "      <td>-787.823424</td>\n",
       "      <td>...</td>\n",
       "      <td>3.403000</td>\n",
       "      <td>0.708272</td>\n",
       "      <td>4.871062</td>\n",
       "      <td>-2.005455</td>\n",
       "      <td>-8.675416</td>\n",
       "      <td>2.512780</td>\n",
       "      <td>0.090229</td>\n",
       "      <td>-0.006291</td>\n",
       "      <td>0.677992</td>\n",
       "      <td>4.256737</td>\n",
       "    </tr>\n",
       "    <tr>\n",
       "      <th>3</th>\n",
       "      <td>-2.333822e+06</td>\n",
       "      <td>-1074.781947</td>\n",
       "      <td>-1.369667e+06</td>\n",
       "      <td>3.449439e+05</td>\n",
       "      <td>1.832196e+06</td>\n",
       "      <td>13228.576349</td>\n",
       "      <td>1.522140e+05</td>\n",
       "      <td>195109.117998</td>\n",
       "      <td>-367104.593475</td>\n",
       "      <td>670.095719</td>\n",
       "      <td>...</td>\n",
       "      <td>5.922022</td>\n",
       "      <td>0.571973</td>\n",
       "      <td>4.785329</td>\n",
       "      <td>-1.092374</td>\n",
       "      <td>-5.517926</td>\n",
       "      <td>1.056064</td>\n",
       "      <td>0.066631</td>\n",
       "      <td>4.535946</td>\n",
       "      <td>0.941230</td>\n",
       "      <td>4.744873</td>\n",
       "    </tr>\n",
       "    <tr>\n",
       "      <th>4</th>\n",
       "      <td>3.174109e+06</td>\n",
       "      <td>798.582080</td>\n",
       "      <td>4.588345e+05</td>\n",
       "      <td>4.712176e+06</td>\n",
       "      <td>1.362118e+06</td>\n",
       "      <td>-8922.338713</td>\n",
       "      <td>-6.740531e+04</td>\n",
       "      <td>573973.508708</td>\n",
       "      <td>44521.147589</td>\n",
       "      <td>146.516082</td>\n",
       "      <td>...</td>\n",
       "      <td>-2.822054</td>\n",
       "      <td>0.429935</td>\n",
       "      <td>6.802518</td>\n",
       "      <td>-0.438395</td>\n",
       "      <td>-0.844239</td>\n",
       "      <td>0.293897</td>\n",
       "      <td>-0.293586</td>\n",
       "      <td>2.224526</td>\n",
       "      <td>-0.218235</td>\n",
       "      <td>0.173227</td>\n",
       "    </tr>\n",
       "    <tr>\n",
       "      <th>...</th>\n",
       "      <td>...</td>\n",
       "      <td>...</td>\n",
       "      <td>...</td>\n",
       "      <td>...</td>\n",
       "      <td>...</td>\n",
       "      <td>...</td>\n",
       "      <td>...</td>\n",
       "      <td>...</td>\n",
       "      <td>...</td>\n",
       "      <td>...</td>\n",
       "      <td>...</td>\n",
       "      <td>...</td>\n",
       "      <td>...</td>\n",
       "      <td>...</td>\n",
       "      <td>...</td>\n",
       "      <td>...</td>\n",
       "      <td>...</td>\n",
       "      <td>...</td>\n",
       "      <td>...</td>\n",
       "      <td>...</td>\n",
       "      <td>...</td>\n",
       "    </tr>\n",
       "    <tr>\n",
       "      <th>9995</th>\n",
       "      <td>-7.046638e+06</td>\n",
       "      <td>-1853.091286</td>\n",
       "      <td>4.177761e+05</td>\n",
       "      <td>-3.247449e+05</td>\n",
       "      <td>-1.555218e+05</td>\n",
       "      <td>-17973.521973</td>\n",
       "      <td>-2.043957e+05</td>\n",
       "      <td>-29937.059424</td>\n",
       "      <td>105298.418646</td>\n",
       "      <td>-877.460732</td>\n",
       "      <td>...</td>\n",
       "      <td>-4.392665</td>\n",
       "      <td>-0.315855</td>\n",
       "      <td>-0.905852</td>\n",
       "      <td>2.618980</td>\n",
       "      <td>13.854976</td>\n",
       "      <td>-3.151031</td>\n",
       "      <td>-0.487023</td>\n",
       "      <td>-3.305908</td>\n",
       "      <td>-0.154423</td>\n",
       "      <td>1.513349</td>\n",
       "    </tr>\n",
       "    <tr>\n",
       "      <th>9996</th>\n",
       "      <td>-5.897648e+06</td>\n",
       "      <td>-1106.707416</td>\n",
       "      <td>-1.568983e+05</td>\n",
       "      <td>-2.670548e+05</td>\n",
       "      <td>2.384702e+05</td>\n",
       "      <td>-39808.698040</td>\n",
       "      <td>-4.428090e+05</td>\n",
       "      <td>-147602.218538</td>\n",
       "      <td>64090.314445</td>\n",
       "      <td>-1909.415017</td>\n",
       "      <td>...</td>\n",
       "      <td>-3.828710</td>\n",
       "      <td>0.155877</td>\n",
       "      <td>6.892568</td>\n",
       "      <td>0.093047</td>\n",
       "      <td>-0.810010</td>\n",
       "      <td>0.492026</td>\n",
       "      <td>0.312018</td>\n",
       "      <td>19.120845</td>\n",
       "      <td>-0.916041</td>\n",
       "      <td>-8.871794</td>\n",
       "    </tr>\n",
       "    <tr>\n",
       "      <th>9997</th>\n",
       "      <td>-3.191363e+06</td>\n",
       "      <td>-1731.729132</td>\n",
       "      <td>-1.795086e+05</td>\n",
       "      <td>7.118814e+05</td>\n",
       "      <td>3.769904e+05</td>\n",
       "      <td>36113.725863</td>\n",
       "      <td>4.069311e+05</td>\n",
       "      <td>-47091.126869</td>\n",
       "      <td>-144291.677140</td>\n",
       "      <td>1671.885244</td>\n",
       "      <td>...</td>\n",
       "      <td>-4.081403</td>\n",
       "      <td>0.682411</td>\n",
       "      <td>8.017443</td>\n",
       "      <td>-1.677489</td>\n",
       "      <td>-5.731592</td>\n",
       "      <td>1.734728</td>\n",
       "      <td>0.166540</td>\n",
       "      <td>3.875549</td>\n",
       "      <td>-0.178679</td>\n",
       "      <td>-2.516850</td>\n",
       "    </tr>\n",
       "    <tr>\n",
       "      <th>9998</th>\n",
       "      <td>-7.606501e+04</td>\n",
       "      <td>2796.343902</td>\n",
       "      <td>1.128226e+04</td>\n",
       "      <td>-5.508521e+04</td>\n",
       "      <td>-1.937103e+04</td>\n",
       "      <td>-152240.402074</td>\n",
       "      <td>-1.689305e+06</td>\n",
       "      <td>-54123.953771</td>\n",
       "      <td>-5642.505321</td>\n",
       "      <td>211486.051989</td>\n",
       "      <td>...</td>\n",
       "      <td>3.211039</td>\n",
       "      <td>-157.548728</td>\n",
       "      <td>1.509314</td>\n",
       "      <td>0.564259</td>\n",
       "      <td>2.022103</td>\n",
       "      <td>-0.396009</td>\n",
       "      <td>-0.571295</td>\n",
       "      <td>-2.258200</td>\n",
       "      <td>0.150928</td>\n",
       "      <td>4.205040</td>\n",
       "    </tr>\n",
       "    <tr>\n",
       "      <th>9999</th>\n",
       "      <td>3.943636e+06</td>\n",
       "      <td>1276.158378</td>\n",
       "      <td>-7.203531e+05</td>\n",
       "      <td>-6.167309e+05</td>\n",
       "      <td>-1.072706e+05</td>\n",
       "      <td>255.069292</td>\n",
       "      <td>2.283746e+03</td>\n",
       "      <td>-211237.187027</td>\n",
       "      <td>144256.060277</td>\n",
       "      <td>-47.626960</td>\n",
       "      <td>...</td>\n",
       "      <td>-1.104121</td>\n",
       "      <td>-0.271058</td>\n",
       "      <td>-6.514567</td>\n",
       "      <td>2.157453</td>\n",
       "      <td>8.334829</td>\n",
       "      <td>-1.911271</td>\n",
       "      <td>0.189170</td>\n",
       "      <td>5.427638</td>\n",
       "      <td>1.644742</td>\n",
       "      <td>16.931144</td>\n",
       "    </tr>\n",
       "  </tbody>\n",
       "</table>\n",
       "<p>10000 rows × 100 columns</p>\n",
       "</div>"
      ],
      "text/plain": [
       "                0            1             2             3             4   \\\n",
       "0     4.120921e+06  1382.926563  2.618250e+05  6.033320e+05 -5.149695e+05   \n",
       "1     1.208672e+06  1126.443975 -1.615208e+06 -8.799284e+05 -6.591156e+05   \n",
       "2     9.419038e+05   537.525459 -1.332966e+06 -5.601405e+05  1.531879e+06   \n",
       "3    -2.333822e+06 -1074.781947 -1.369667e+06  3.449439e+05  1.832196e+06   \n",
       "4     3.174109e+06   798.582080  4.588345e+05  4.712176e+06  1.362118e+06   \n",
       "...            ...          ...           ...           ...           ...   \n",
       "9995 -7.046638e+06 -1853.091286  4.177761e+05 -3.247449e+05 -1.555218e+05   \n",
       "9996 -5.897648e+06 -1106.707416 -1.568983e+05 -2.670548e+05  2.384702e+05   \n",
       "9997 -3.191363e+06 -1731.729132 -1.795086e+05  7.118814e+05  3.769904e+05   \n",
       "9998 -7.606501e+04  2796.343902  1.128226e+04 -5.508521e+04 -1.937103e+04   \n",
       "9999  3.943636e+06  1276.158378 -7.203531e+05 -6.167309e+05 -1.072706e+05   \n",
       "\n",
       "                 5             6              7              8   \\\n",
       "0      -6637.074611 -7.528463e+04  385215.727461   55236.920600   \n",
       "1     -37307.011877 -4.190200e+05 -190482.880666  143341.238830   \n",
       "2     -13119.961209 -1.348529e+05 -704117.095401  153799.187888   \n",
       "3      13228.576349  1.522140e+05  195109.117998 -367104.593475   \n",
       "4      -8922.338713 -6.740531e+04  573973.508708   44521.147589   \n",
       "...             ...           ...            ...            ...   \n",
       "9995  -17973.521973 -2.043957e+05  -29937.059424  105298.418646   \n",
       "9996  -39808.698040 -4.428090e+05 -147602.218538   64090.314445   \n",
       "9997   36113.725863  4.069311e+05  -47091.126869 -144291.677140   \n",
       "9998 -152240.402074 -1.689305e+06  -54123.953771   -5642.505321   \n",
       "9999     255.069292  2.283746e+03 -211237.187027  144256.060277   \n",
       "\n",
       "                 9   ...        90          91         92        93  \\\n",
       "0       -144.246584  ... -4.197877   -0.809334   5.247311 -1.769750   \n",
       "1      -1816.791105  ...  2.923935    1.858305  20.208964  2.960141   \n",
       "2       -787.823424  ...  3.403000    0.708272   4.871062 -2.005455   \n",
       "3        670.095719  ...  5.922022    0.571973   4.785329 -1.092374   \n",
       "4        146.516082  ... -2.822054    0.429935   6.802518 -0.438395   \n",
       "...             ...  ...       ...         ...        ...       ...   \n",
       "9995    -877.460732  ... -4.392665   -0.315855  -0.905852  2.618980   \n",
       "9996   -1909.415017  ... -3.828710    0.155877   6.892568  0.093047   \n",
       "9997    1671.885244  ... -4.081403    0.682411   8.017443 -1.677489   \n",
       "9998  211486.051989  ...  3.211039 -157.548728   1.509314  0.564259   \n",
       "9999     -47.626960  ... -1.104121   -0.271058  -6.514567  2.157453   \n",
       "\n",
       "             94        95        96         97        98         99  \n",
       "0     -6.093992  1.623660  0.170005   6.351277  0.614337   4.847624  \n",
       "1      4.557753 -1.202465 -0.806956 -18.726068 -1.345178 -11.643057  \n",
       "2     -8.675416  2.512780  0.090229  -0.006291  0.677992   4.256737  \n",
       "3     -5.517926  1.056064  0.066631   4.535946  0.941230   4.744873  \n",
       "4     -0.844239  0.293897 -0.293586   2.224526 -0.218235   0.173227  \n",
       "...         ...       ...       ...        ...       ...        ...  \n",
       "9995  13.854976 -3.151031 -0.487023  -3.305908 -0.154423   1.513349  \n",
       "9996  -0.810010  0.492026  0.312018  19.120845 -0.916041  -8.871794  \n",
       "9997  -5.731592  1.734728  0.166540   3.875549 -0.178679  -2.516850  \n",
       "9998   2.022103 -0.396009 -0.571295  -2.258200  0.150928   4.205040  \n",
       "9999   8.334829 -1.911271  0.189170   5.427638  1.644742  16.931144  \n",
       "\n",
       "[10000 rows x 100 columns]"
      ]
     },
     "execution_count": 44,
     "metadata": {},
     "output_type": "execute_result"
    }
   ],
   "source": [
    "#Basetable\n",
    "train_pca_df"
   ]
  },
  {
   "cell_type": "code",
   "execution_count": 45,
   "metadata": {},
   "outputs": [],
   "source": [
    "basetable = train_pca_df.to_csv(r'C:\\Users\\bajpa\\Desktop\\IESEG\\Stastical and Machine Learning Approaches\\Individual Project\\Final Individual Project Folder\\shruti_basetable_kaggle.csv')"
   ]
  },
  {
   "cell_type": "markdown",
   "metadata": {},
   "source": [
    "## 3. Modeling\n",
    "\n",
    "<u>Reference:</u>  \n",
    "\n",
    "- Lessmann, S., Baesens, B., Seow, H. V., & Thomas, L. C. (2015). Benchmarking state-of-the-art classification algorithms for credit scoring: An update of research. European Journal of Operational Research, 247(1), 124-136.File "
   ]
  },
  {
   "cell_type": "code",
   "execution_count": 73,
   "metadata": {},
   "outputs": [],
   "source": [
    "import sys\n",
    "import pandas               as pd\n",
    "import numpy                as np\n",
    "import seaborn              as sns\n",
    "import matplotlib.pyplot    as plt\n",
    "from pandas                 import DataFrame\n",
    "from pandas                 import read_csv\n",
    "from pandas                 import Series\n",
    "from numpy                  import array\n",
    "from numpy                  import random\n",
    "from matplotlib             import pyplot\n",
    "import warnings\n",
    "from pandas               import get_dummies\n",
    "from numpy                import where\n",
    "from numpy                import nan\n",
    "from scipy.stats.mstats   import winsorize\n",
    "\n",
    "warnings.filterwarnings(\"ignore\")\n",
    "\n",
    "from scipy.stats.mstats import winsorize\n",
    "from scipy.stats          import pearsonr\n",
    "import warnings\n",
    "from sklearn import linear_model\n",
    "from sklearn.linear_model   import LogisticRegression\n",
    "from sklearn.tree           import DecisionTreeClassifier\n",
    "from sklearn.ensemble       import RandomForestClassifier\n",
    "from sklearn.ensemble       import GradientBoostingClassifier\n",
    "from sklearn.svm            import SVC\n",
    "from sklearn.neural_network import MLPClassifier\n",
    "from sklearn.neighbors      import KNeighborsClassifier\n",
    "from sklearn.metrics        import auc\n",
    "from sklearn.model_selection import cross_val_score\n",
    "from sklearn.model_selection import train_test_split\n",
    "from sklearn.metrics import roc_curve\n",
    "from sklearn.metrics        import accuracy_score\n",
    "from sklearn.preprocessing import MinMaxScaler\n",
    "from sklearn.metrics        import auc\n",
    "from sklearn.metrics        import roc_auc_score\n",
    "from sklearn.metrics        import confusion_matrix"
   ]
  },
  {
   "cell_type": "code",
   "execution_count": null,
   "metadata": {},
   "outputs": [],
   "source": [
    "train.head(2)"
   ]
  },
  {
   "cell_type": "code",
   "execution_count": 137,
   "metadata": {},
   "outputs": [
    {
     "data": {
      "text/plain": [
       "(10000, 100)"
      ]
     },
     "execution_count": 137,
     "metadata": {},
     "output_type": "execute_result"
    }
   ],
   "source": [
    "train_pca.shape"
   ]
  },
  {
   "cell_type": "code",
   "execution_count": 86,
   "metadata": {},
   "outputs": [],
   "source": [
    "scaler = MinMaxScaler()\n",
    "x_train = scaler.fit_transform(x_train)\n",
    "x_test = scaler.transform(x_test)"
   ]
  },
  {
   "cell_type": "code",
   "execution_count": 161,
   "metadata": {},
   "outputs": [],
   "source": [
    "x_train,x_test,y_train,y_test=train_test_split(train_pca,train['churn'],test_size = 0.2, random_state = 123)"
   ]
  },
  {
   "cell_type": "code",
   "execution_count": 139,
   "metadata": {},
   "outputs": [],
   "source": [
    "# Instanciating the Models\n",
    "\n",
    "tree         = DecisionTreeClassifier()\n",
    "logistic     = LogisticRegression(solver = \"lbfgs\", max_iter = 500)\n",
    "randomForest = RandomForestClassifier(n_estimators = 100)\n",
    "boostedTree  = GradientBoostingClassifier()\n",
    "svm          = SVC(gamma = \"scale\", probability = True)\n",
    "neuralNet    = MLPClassifier()\n",
    "neighbors    = KNeighborsClassifier() "
   ]
  },
  {
   "cell_type": "code",
   "execution_count": 141,
   "metadata": {},
   "outputs": [],
   "source": [
    "#Import Gaussian Naive Bayes model\n",
    "from sklearn.naive_bayes import GaussianNB\n",
    "\n",
    "#Create a Gaussian Classifier\n",
    "gnb = GaussianNB()\n",
    "\n",
    "#Train the model using the training sets\n",
    "gnb.fit(x_train, y_train)\n",
    "\n",
    "#Predict the response for test dataset\n",
    "y_pred = gnb.predict(x_test)"
   ]
  },
  {
   "cell_type": "markdown",
   "metadata": {},
   "source": [
    "## 4. Make prediction\n",
    "\n",
    "Use the best model to make prediction on test set. Submit the result to Kaggle."
   ]
  },
  {
   "cell_type": "markdown",
   "metadata": {},
   "source": [
    "### Nearest Neighbors"
   ]
  },
  {
   "cell_type": "code",
   "execution_count": null,
   "metadata": {},
   "outputs": [],
   "source": [
    "# 0.53507 nearest neighbors score for kaggle 8 submission"
   ]
  },
  {
   "cell_type": "code",
   "execution_count": 215,
   "metadata": {},
   "outputs": [],
   "source": [
    "from sklearn.preprocessing import StandardScaler\n",
    "scaler = StandardScaler()\n",
    "scaler.fit(x_train)\n",
    "\n",
    "x_train = scaler.transform(x_train)\n",
    "x_test = scaler.transform(x_test)"
   ]
  },
  {
   "cell_type": "code",
   "execution_count": 216,
   "metadata": {},
   "outputs": [
    {
     "data": {
      "text/plain": [
       "KNeighborsClassifier()"
      ]
     },
     "execution_count": 216,
     "metadata": {},
     "output_type": "execute_result"
    }
   ],
   "source": [
    "from sklearn.neighbors import KNeighborsClassifier\n",
    "classifier = KNeighborsClassifier(n_neighbors=5)\n",
    "classifier.fit(x_train, y_train)"
   ]
  },
  {
   "cell_type": "code",
   "execution_count": 217,
   "metadata": {},
   "outputs": [],
   "source": [
    "prediction_neighbors = classifier.predict(test_pca)"
   ]
  },
  {
   "cell_type": "code",
   "execution_count": 218,
   "metadata": {},
   "outputs": [],
   "source": [
    "predictionproba_neighbors = neighbors.predict_proba(test_pca)"
   ]
  },
  {
   "cell_type": "code",
   "execution_count": 219,
   "metadata": {},
   "outputs": [
    {
     "name": "stdout",
     "output_type": "stream",
     "text": [
      "0       0.4\n",
      "1       0.0\n",
      "2       0.0\n",
      "3       0.0\n",
      "4       0.2\n",
      "       ... \n",
      "9995    0.2\n",
      "9996    0.0\n",
      "9997    0.2\n",
      "9998    0.0\n",
      "9999    0.2\n",
      "Name: 1, Length: 10000, dtype: float64\n"
     ]
    }
   ],
   "source": [
    "result_neighbors = pd.DataFrame(predictionproba_neighbors)\n",
    "print(result_neighbors[1])"
   ]
  },
  {
   "cell_type": "code",
   "execution_count": 220,
   "metadata": {},
   "outputs": [],
   "source": [
    "test['prediction'] = result_neighbors[1]"
   ]
  },
  {
   "cell_type": "code",
   "execution_count": 221,
   "metadata": {},
   "outputs": [],
   "source": [
    "export_result_neighbors = test[['cust_id','prediction']]\n",
    "export_result_neighbors.to_csv(r\"C:\\Users\\bajpa\\Desktop\\IESEG\\Stastical and Machine Learning Approaches\\Individual Project\\kaggle8.csv\")"
   ]
  },
  {
   "cell_type": "markdown",
   "metadata": {},
   "source": [
    "### Decision Tree"
   ]
  },
  {
   "cell_type": "code",
   "execution_count": null,
   "metadata": {},
   "outputs": [],
   "source": [
    "# 0.52327 score for kaggle 7"
   ]
  },
  {
   "cell_type": "code",
   "execution_count": 206,
   "metadata": {},
   "outputs": [
    {
     "data": {
      "text/plain": [
       "DecisionTreeClassifier()"
      ]
     },
     "execution_count": 206,
     "metadata": {},
     "output_type": "execute_result"
    }
   ],
   "source": [
    "tree.fit(x_train,y_train)"
   ]
  },
  {
   "cell_type": "code",
   "execution_count": 207,
   "metadata": {},
   "outputs": [],
   "source": [
    "prediction_tree = tree.predict(test_pca)"
   ]
  },
  {
   "cell_type": "code",
   "execution_count": 209,
   "metadata": {},
   "outputs": [],
   "source": [
    "predictionproba_tree = tree.predict_proba(test_pca)"
   ]
  },
  {
   "cell_type": "code",
   "execution_count": 210,
   "metadata": {},
   "outputs": [
    {
     "name": "stdout",
     "output_type": "stream",
     "text": [
      "0       0.0\n",
      "1       0.0\n",
      "2       0.0\n",
      "3       0.0\n",
      "4       1.0\n",
      "       ... \n",
      "9995    1.0\n",
      "9996    0.0\n",
      "9997    0.0\n",
      "9998    0.0\n",
      "9999    0.0\n",
      "Name: 1, Length: 10000, dtype: float64\n"
     ]
    }
   ],
   "source": [
    "result_tree = pd.DataFrame(predictionproba_tree)\n",
    "print(result_tree[1])"
   ]
  },
  {
   "cell_type": "code",
   "execution_count": 211,
   "metadata": {},
   "outputs": [],
   "source": [
    "test['prediction'] = result_tree[1]"
   ]
  },
  {
   "cell_type": "code",
   "execution_count": 212,
   "metadata": {},
   "outputs": [],
   "source": [
    "export_result_result_tree = test[['cust_id','prediction']]\n",
    "export_result_result_tree.to_csv(r\"C:\\Users\\bajpa\\Desktop\\IESEG\\Stastical and Machine Learning Approaches\\Individual Project\\kaggle7.csv\")"
   ]
  },
  {
   "cell_type": "markdown",
   "metadata": {},
   "source": [
    "### Neural Network"
   ]
  },
  {
   "cell_type": "code",
   "execution_count": 199,
   "metadata": {},
   "outputs": [
    {
     "data": {
      "text/plain": [
       "MLPClassifier()"
      ]
     },
     "execution_count": 199,
     "metadata": {},
     "output_type": "execute_result"
    }
   ],
   "source": [
    "neuralNet.fit(x_train,y_train)"
   ]
  },
  {
   "cell_type": "code",
   "execution_count": 201,
   "metadata": {},
   "outputs": [],
   "source": [
    "prediction_neuralNet = neuralNet.predict(test_pca)"
   ]
  },
  {
   "cell_type": "code",
   "execution_count": 202,
   "metadata": {},
   "outputs": [],
   "source": [
    "predictionproba_neuralNet = neuralNet.predict_proba(test_pca)"
   ]
  },
  {
   "cell_type": "code",
   "execution_count": 203,
   "metadata": {},
   "outputs": [
    {
     "name": "stdout",
     "output_type": "stream",
     "text": [
      "0       2.402785e-02\n",
      "1       4.480473e-04\n",
      "2       2.435504e-03\n",
      "3       7.013080e-02\n",
      "4       3.298309e-03\n",
      "            ...     \n",
      "9995    4.675560e-02\n",
      "9996    4.551238e-10\n",
      "9997    4.210335e-01\n",
      "9998    7.892970e-05\n",
      "9999    6.673683e-04\n",
      "Name: 1, Length: 10000, dtype: float64\n"
     ]
    }
   ],
   "source": [
    "result_neuralNet = pd.DataFrame(predictionproba_neuralNet)\n",
    "print(result_neuralNet[1])"
   ]
  },
  {
   "cell_type": "code",
   "execution_count": 204,
   "metadata": {},
   "outputs": [],
   "source": [
    "test['prediction'] = result_neuralNet[1]"
   ]
  },
  {
   "cell_type": "code",
   "execution_count": 205,
   "metadata": {},
   "outputs": [],
   "source": [
    "export_result_neuralNet = test[['cust_id','prediction']]\n",
    "export_result_neuralNet.to_csv(r\"C:\\Users\\bajpa\\Desktop\\IESEG\\Stastical and Machine Learning Approaches\\Individual Project\\kaggle6.csv\")"
   ]
  },
  {
   "cell_type": "markdown",
   "metadata": {},
   "source": [
    "### Random Forest"
   ]
  },
  {
   "cell_type": "code",
   "execution_count": null,
   "metadata": {},
   "outputs": [],
   "source": [
    "#random forest 0.58371 kaggle 5"
   ]
  },
  {
   "cell_type": "code",
   "execution_count": 193,
   "metadata": {},
   "outputs": [
    {
     "data": {
      "text/plain": [
       "RandomForestClassifier()"
      ]
     },
     "execution_count": 193,
     "metadata": {},
     "output_type": "execute_result"
    }
   ],
   "source": [
    "randomForest.fit(x_train,y_train)"
   ]
  },
  {
   "cell_type": "code",
   "execution_count": 194,
   "metadata": {},
   "outputs": [],
   "source": [
    "prediction_randomForest = randomForest.predict(test_pca)"
   ]
  },
  {
   "cell_type": "code",
   "execution_count": 195,
   "metadata": {},
   "outputs": [],
   "source": [
    "predictionproba_randomForest = randomForest.predict_proba(test_pca)"
   ]
  },
  {
   "cell_type": "code",
   "execution_count": 196,
   "metadata": {},
   "outputs": [
    {
     "name": "stdout",
     "output_type": "stream",
     "text": [
      "0       0.05\n",
      "1       0.04\n",
      "2       0.01\n",
      "3       0.16\n",
      "4       0.13\n",
      "        ... \n",
      "9995    0.07\n",
      "9996    0.10\n",
      "9997    0.07\n",
      "9998    0.01\n",
      "9999    0.07\n",
      "Name: 1, Length: 10000, dtype: float64\n"
     ]
    }
   ],
   "source": [
    "result_randomForest = pd.DataFrame(predictionproba_randomForest)\n",
    "print(result_randomForest[1])"
   ]
  },
  {
   "cell_type": "code",
   "execution_count": 197,
   "metadata": {},
   "outputs": [],
   "source": [
    "test['prediction'] = result_randomForest[1]"
   ]
  },
  {
   "cell_type": "code",
   "execution_count": 198,
   "metadata": {},
   "outputs": [],
   "source": [
    "export_result_randomForest = test[['cust_id','prediction']]\n",
    "export_result_randomForest.to_csv(r\"C:\\Users\\bajpa\\Desktop\\IESEG\\Stastical and Machine Learning Approaches\\Individual Project\\kaggle5.csv\")"
   ]
  },
  {
   "cell_type": "markdown",
   "metadata": {},
   "source": [
    "### Logistic Regression"
   ]
  },
  {
   "cell_type": "code",
   "execution_count": null,
   "metadata": {},
   "outputs": [],
   "source": [
    "#0.65556 Logistic regression submission kaggle 4"
   ]
  },
  {
   "cell_type": "code",
   "execution_count": 187,
   "metadata": {},
   "outputs": [
    {
     "data": {
      "text/plain": [
       "LogisticRegression()"
      ]
     },
     "execution_count": 187,
     "metadata": {},
     "output_type": "execute_result"
    }
   ],
   "source": [
    "logreg = LogisticRegression()\n",
    "logreg.fit(x_train, y_train)"
   ]
  },
  {
   "cell_type": "code",
   "execution_count": 188,
   "metadata": {},
   "outputs": [],
   "source": [
    "prediction_logistic = logreg.predict(test_pca)"
   ]
  },
  {
   "cell_type": "code",
   "execution_count": 189,
   "metadata": {},
   "outputs": [],
   "source": [
    "predictionproba_logistic = logreg.predict_proba(test_pca)"
   ]
  },
  {
   "cell_type": "code",
   "execution_count": 190,
   "metadata": {},
   "outputs": [
    {
     "name": "stdout",
     "output_type": "stream",
     "text": [
      "0       0.131396\n",
      "1       0.071057\n",
      "2       0.073368\n",
      "3       0.110457\n",
      "4       0.125005\n",
      "          ...   \n",
      "9995    0.128260\n",
      "9996    0.003006\n",
      "9997    0.125729\n",
      "9998    0.043923\n",
      "9999    0.079804\n",
      "Name: 1, Length: 10000, dtype: float64\n"
     ]
    }
   ],
   "source": [
    "result_logistic = pd.DataFrame(predictionproba_logistic)\n",
    "print(result_logistic[1])"
   ]
  },
  {
   "cell_type": "code",
   "execution_count": 191,
   "metadata": {},
   "outputs": [],
   "source": [
    "test['prediction'] = result_logistic[1]"
   ]
  },
  {
   "cell_type": "code",
   "execution_count": 192,
   "metadata": {},
   "outputs": [],
   "source": [
    "export_result_logisticreg = test[['cust_id','prediction']]\n",
    "export_result_logisticreg.to_csv(r\"C:\\Users\\bajpa\\Desktop\\IESEG\\Stastical and Machine Learning Approaches\\Individual Project\\kaggle4.csv\")"
   ]
  },
  {
   "cell_type": "markdown",
   "metadata": {},
   "source": [
    "### Boosted Tree"
   ]
  },
  {
   "cell_type": "code",
   "execution_count": null,
   "metadata": {},
   "outputs": [],
   "source": [
    "#0.61277 for total score kaggle 3"
   ]
  },
  {
   "cell_type": "code",
   "execution_count": 174,
   "metadata": {},
   "outputs": [
    {
     "data": {
      "text/plain": [
       "GradientBoostingClassifier()"
      ]
     },
     "execution_count": 174,
     "metadata": {},
     "output_type": "execute_result"
    }
   ],
   "source": [
    "boostedTree.fit(x_train,y_train)"
   ]
  },
  {
   "cell_type": "code",
   "execution_count": 175,
   "metadata": {},
   "outputs": [],
   "source": [
    "prediction_boostedTree=boostedTree.predict_proba(test_pca)"
   ]
  },
  {
   "cell_type": "code",
   "execution_count": 176,
   "metadata": {},
   "outputs": [
    {
     "name": "stdout",
     "output_type": "stream",
     "text": [
      "[[0.8977669  0.1022331 ]\n",
      " [0.95543891 0.04456109]\n",
      " [0.94846415 0.05153585]\n",
      " ...\n",
      " [0.91165384 0.08834616]\n",
      " [0.94223132 0.05776868]\n",
      " [0.95694303 0.04305697]]\n"
     ]
    }
   ],
   "source": [
    "print(prediction_boostedTree)"
   ]
  },
  {
   "cell_type": "code",
   "execution_count": 177,
   "metadata": {},
   "outputs": [
    {
     "name": "stdout",
     "output_type": "stream",
     "text": [
      "0       0.102233\n",
      "1       0.044561\n",
      "2       0.051536\n",
      "3       0.114491\n",
      "4       0.072607\n",
      "          ...   \n",
      "9995    0.091968\n",
      "9996    0.028753\n",
      "9997    0.088346\n",
      "9998    0.057769\n",
      "9999    0.043057\n",
      "Name: 1, Length: 10000, dtype: float64\n"
     ]
    }
   ],
   "source": [
    "result_boostedTree = pd.DataFrame(prediction_boostedTree)\n",
    "print(result_boostedTree[1])"
   ]
  },
  {
   "cell_type": "code",
   "execution_count": 184,
   "metadata": {},
   "outputs": [],
   "source": [
    "test['prediction'] = result_boostedTree[1]"
   ]
  },
  {
   "cell_type": "code",
   "execution_count": 185,
   "metadata": {},
   "outputs": [],
   "source": [
    "export_result_boostedTree = test[['cust_id','prediction']]\n",
    "export_result_boostedTree.to_csv(r\"C:\\Users\\bajpa\\Desktop\\IESEG\\Stastical and Machine Learning Approaches\\Individual Project\\kaggle3.csv\")"
   ]
  },
  {
   "cell_type": "markdown",
   "metadata": {},
   "source": [
    "### SVM"
   ]
  },
  {
   "cell_type": "code",
   "execution_count": null,
   "metadata": {},
   "outputs": [],
   "source": [
    "#worst score... 0.49976 kaggle 2"
   ]
  },
  {
   "cell_type": "code",
   "execution_count": null,
   "metadata": {},
   "outputs": [],
   "source": [
    "from sklearn.svm import SVC\n",
    "svclassifier = SVC(kernel='linear"
   ]
  },
  {
   "cell_type": "code",
   "execution_count": null,
   "metadata": {},
   "outputs": [],
   "source": []
  },
  {
   "cell_type": "code",
   "execution_count": 166,
   "metadata": {},
   "outputs": [
    {
     "data": {
      "text/plain": [
       "SVC(kernel='linear', probability=True)"
      ]
     },
     "execution_count": 166,
     "metadata": {},
     "output_type": "execute_result"
    }
   ],
   "source": [
    "linear')\n",
    "svclassifier.probability = True\n",
    "svclassifier.fit(x_train, y_train)"
   ]
  },
  {
   "cell_type": "code",
   "execution_count": 168,
   "metadata": {},
   "outputs": [],
   "source": [
    "prediction_svm=svclassifier.predict_proba(test_pca)"
   ]
  },
  {
   "cell_type": "code",
   "execution_count": 169,
   "metadata": {},
   "outputs": [
    {
     "name": "stdout",
     "output_type": "stream",
     "text": [
      "[[0.90659015 0.09340985]\n",
      " [0.90197247 0.09802753]\n",
      " [0.93590126 0.06409874]\n",
      " ...\n",
      " [0.91292222 0.08707778]\n",
      " [0.88682783 0.11317217]\n",
      " [0.92290393 0.07709607]]\n"
     ]
    }
   ],
   "source": [
    "print(prediction_svm)"
   ]
  },
  {
   "cell_type": "code",
   "execution_count": 171,
   "metadata": {},
   "outputs": [
    {
     "name": "stdout",
     "output_type": "stream",
     "text": [
      "0       0.093410\n",
      "1       0.098028\n",
      "2       0.064099\n",
      "3       0.063769\n",
      "4       0.084125\n",
      "          ...   \n",
      "9995    0.068830\n",
      "9996    0.081103\n",
      "9997    0.087078\n",
      "9998    0.113172\n",
      "9999    0.077096\n",
      "Name: 1, Length: 10000, dtype: float64\n"
     ]
    }
   ],
   "source": [
    "result_svm = pd.DataFrame(prediction_svm)\n",
    "print(result_svm[1])"
   ]
  },
  {
   "cell_type": "code",
   "execution_count": 172,
   "metadata": {},
   "outputs": [],
   "source": [
    "test['prediction'] = result_svm[1]"
   ]
  },
  {
   "cell_type": "code",
   "execution_count": 173,
   "metadata": {},
   "outputs": [],
   "source": [
    "export_result_svm = test[['cust_id','prediction']]\n",
    "export_result_svm.to_csv(r\"C:\\Users\\bajpa\\Desktop\\IESEG\\Stastical and Machine Learning Approaches\\Individual Project\\kaggle2.csv\")"
   ]
  },
  {
   "cell_type": "markdown",
   "metadata": {},
   "source": [
    "### Naive Bayes"
   ]
  },
  {
   "cell_type": "code",
   "execution_count": null,
   "metadata": {},
   "outputs": [],
   "source": [
    "# 0.58385 is the score kaggle 1"
   ]
  },
  {
   "cell_type": "code",
   "execution_count": 144,
   "metadata": {},
   "outputs": [],
   "source": [
    "prediction=gnb.predict(test_pca)"
   ]
  },
  {
   "cell_type": "code",
   "execution_count": 145,
   "metadata": {},
   "outputs": [],
   "source": [
    "predictionproba = gnb.predict_proba(test_pca)"
   ]
  },
  {
   "cell_type": "code",
   "execution_count": 146,
   "metadata": {},
   "outputs": [
    {
     "name": "stdout",
     "output_type": "stream",
     "text": [
      "[[0.72057035 0.27942965]\n",
      " [0.96567739 0.03432261]\n",
      " [0.14775198 0.85224802]\n",
      " ...\n",
      " [0.9780142  0.0219858 ]\n",
      " [0.96505571 0.03494429]\n",
      " [0.93943088 0.06056912]]\n"
     ]
    }
   ],
   "source": [
    "print(predictionproba)"
   ]
  },
  {
   "cell_type": "code",
   "execution_count": 149,
   "metadata": {},
   "outputs": [
    {
     "name": "stdout",
     "output_type": "stream",
     "text": [
      "0       0.279430\n",
      "1       0.034323\n",
      "2       0.852248\n",
      "3       0.381420\n",
      "4       0.016880\n",
      "          ...   \n",
      "9995    0.366915\n",
      "9996    0.000221\n",
      "9997    0.021986\n",
      "9998    0.034944\n",
      "9999    0.060569\n",
      "Name: 1, Length: 10000, dtype: float64\n"
     ]
    }
   ],
   "source": [
    "result = pd.DataFrame(predictionproba)\n",
    "print(result[1])"
   ]
  },
  {
   "cell_type": "code",
   "execution_count": 151,
   "metadata": {},
   "outputs": [],
   "source": [
    "test['prediction'] = result[1]"
   ]
  },
  {
   "cell_type": "code",
   "execution_count": 154,
   "metadata": {},
   "outputs": [],
   "source": [
    "export_result = test[['cust_id','prediction']]\n",
    "export_result.to_csv(r\"C:\\Users\\bajpa\\Desktop\\IESEG\\Stastical and Machine Learning Approaches\\Individual Project\\kaggle1.csv\")"
   ]
  },
  {
   "cell_type": "code",
   "execution_count": 140,
   "metadata": {},
   "outputs": [],
   "source": [
    "models = {\"tree\"         :tree,\n",
    "          \"logistic\"     :logistic,\n",
    "          \"randomForest\" :randomForest,\n",
    "          \"boostedTree\"  :boostedTree,\n",
    "          \"svm\"          :svm,\n",
    "          \"neuralNet\"    :neuralNet,\n",
    "          \"neighbors\"    :neighbors\n",
    "         } "
   ]
  },
  {
   "cell_type": "code",
   "execution_count": 89,
   "metadata": {},
   "outputs": [
    {
     "name": "stdout",
     "output_type": "stream",
     "text": [
      "tree has been trained successfully\n",
      "logistic has been trained successfully\n",
      "randomForest has been trained successfully\n",
      "boostedTree has been trained successfully\n",
      "svm has been trained successfully\n",
      "neuralNet has been trained successfully\n",
      "neighbors has been trained successfully\n"
     ]
    }
   ],
   "source": [
    "for model in models:\n",
    "    models[model].fit(x_train,y_train)\n",
    "    print(f\"{model} has been trained successfully\")"
   ]
  },
  {
   "cell_type": "code",
   "execution_count": 91,
   "metadata": {},
   "outputs": [],
   "source": [
    "performances_train = {}\n",
    "\n",
    "for model in models:\n",
    "    predictions   = models[model].predict(x_train)\n",
    "    probabilities = DataFrame(models[model].predict_proba(x_train))[1]\n",
    "    accuracy      = accuracy_score(y_train,predictions)\n",
    "    auc           = roc_auc_score(array(y_train),array(probabilities))\n",
    "    \n",
    "    performances_train[model] = {\"Accuracy\":accuracy,\"AUC\":auc,\"Probabilities\":probabilities}"
   ]
  },
  {
   "cell_type": "code",
   "execution_count": 93,
   "metadata": {},
   "outputs": [
    {
     "data": {
      "text/html": [
       "<div>\n",
       "<style scoped>\n",
       "    .dataframe tbody tr th:only-of-type {\n",
       "        vertical-align: middle;\n",
       "    }\n",
       "\n",
       "    .dataframe tbody tr th {\n",
       "        vertical-align: top;\n",
       "    }\n",
       "\n",
       "    .dataframe thead th {\n",
       "        text-align: right;\n",
       "    }\n",
       "</style>\n",
       "<table border=\"1\" class=\"dataframe\">\n",
       "  <thead>\n",
       "    <tr style=\"text-align: right;\">\n",
       "      <th></th>\n",
       "      <th>tree</th>\n",
       "      <th>logistic</th>\n",
       "      <th>randomForest</th>\n",
       "      <th>boostedTree</th>\n",
       "      <th>svm</th>\n",
       "      <th>neuralNet</th>\n",
       "      <th>neighbors</th>\n",
       "    </tr>\n",
       "  </thead>\n",
       "  <tbody>\n",
       "    <tr>\n",
       "      <th>Accuracy</th>\n",
       "      <td>1.0</td>\n",
       "      <td>0.958833</td>\n",
       "      <td>0.999833</td>\n",
       "      <td>0.929667</td>\n",
       "      <td>0.9265</td>\n",
       "      <td>1.0</td>\n",
       "      <td>0.929333</td>\n",
       "    </tr>\n",
       "    <tr>\n",
       "      <th>AUC</th>\n",
       "      <td>1.0</td>\n",
       "      <td>0.996891</td>\n",
       "      <td>1.0</td>\n",
       "      <td>0.957889</td>\n",
       "      <td>1.0</td>\n",
       "      <td>1.0</td>\n",
       "      <td>0.911736</td>\n",
       "    </tr>\n",
       "    <tr>\n",
       "      <th>Probabilities</th>\n",
       "      <td>0       0.0\n",
       "1       0.0\n",
       "2       0.0\n",
       "3       0....</td>\n",
       "      <td>0       0.023321\n",
       "1       0.085306\n",
       "2       0.06...</td>\n",
       "      <td>0       0.05\n",
       "1       0.04\n",
       "2       0.03\n",
       "3      ...</td>\n",
       "      <td>0       0.031389\n",
       "1       0.094468\n",
       "2       0.07...</td>\n",
       "      <td>0       0.060821\n",
       "1       0.067713\n",
       "2       0.06...</td>\n",
       "      <td>0       3.277046e-04\n",
       "1       4.984098e-04\n",
       "2   ...</td>\n",
       "      <td>0       0.0\n",
       "1       0.0\n",
       "2       0.0\n",
       "3       0....</td>\n",
       "    </tr>\n",
       "  </tbody>\n",
       "</table>\n",
       "</div>"
      ],
      "text/plain": [
       "                                                            tree  \\\n",
       "Accuracy                                                     1.0   \n",
       "AUC                                                          1.0   \n",
       "Probabilities  0       0.0\n",
       "1       0.0\n",
       "2       0.0\n",
       "3       0....   \n",
       "\n",
       "                                                        logistic  \\\n",
       "Accuracy                                                0.958833   \n",
       "AUC                                                     0.996891   \n",
       "Probabilities  0       0.023321\n",
       "1       0.085306\n",
       "2       0.06...   \n",
       "\n",
       "                                                    randomForest  \\\n",
       "Accuracy                                                0.999833   \n",
       "AUC                                                          1.0   \n",
       "Probabilities  0       0.05\n",
       "1       0.04\n",
       "2       0.03\n",
       "3      ...   \n",
       "\n",
       "                                                     boostedTree  \\\n",
       "Accuracy                                                0.929667   \n",
       "AUC                                                     0.957889   \n",
       "Probabilities  0       0.031389\n",
       "1       0.094468\n",
       "2       0.07...   \n",
       "\n",
       "                                                             svm  \\\n",
       "Accuracy                                                  0.9265   \n",
       "AUC                                                          1.0   \n",
       "Probabilities  0       0.060821\n",
       "1       0.067713\n",
       "2       0.06...   \n",
       "\n",
       "                                                       neuralNet  \\\n",
       "Accuracy                                                     1.0   \n",
       "AUC                                                          1.0   \n",
       "Probabilities  0       3.277046e-04\n",
       "1       4.984098e-04\n",
       "2   ...   \n",
       "\n",
       "                                                       neighbors  \n",
       "Accuracy                                                0.929333  \n",
       "AUC                                                     0.911736  \n",
       "Probabilities  0       0.0\n",
       "1       0.0\n",
       "2       0.0\n",
       "3       0....  "
      ]
     },
     "execution_count": 93,
     "metadata": {},
     "output_type": "execute_result"
    }
   ],
   "source": [
    "# performances on the training set\n",
    "DataFrame(performances_train)"
   ]
  },
  {
   "cell_type": "code",
   "execution_count": 99,
   "metadata": {},
   "outputs": [],
   "source": [
    "performances_test = {}\n",
    "\n",
    "for model in models:\n",
    "    predictions_test   = models[model].predict(x_test)\n",
    "    probabilities_test = DataFrame(models[model].predict_proba(x_test))[1]\n",
    "    accuracy_test      = accuracy_score(y_test,predictions_test)\n",
    "    auc_test           = roc_auc_score(array(y_test),array(probabilities_test))\n",
    "    \n",
    "    performances_test[model] = {\"Probabilities\":probabilities_test,\"AUC\":auc}"
   ]
  },
  {
   "cell_type": "code",
   "execution_count": 100,
   "metadata": {},
   "outputs": [
    {
     "data": {
      "text/html": [
       "<div>\n",
       "<style scoped>\n",
       "    .dataframe tbody tr th:only-of-type {\n",
       "        vertical-align: middle;\n",
       "    }\n",
       "\n",
       "    .dataframe tbody tr th {\n",
       "        vertical-align: top;\n",
       "    }\n",
       "\n",
       "    .dataframe thead th {\n",
       "        text-align: right;\n",
       "    }\n",
       "</style>\n",
       "<table border=\"1\" class=\"dataframe\">\n",
       "  <thead>\n",
       "    <tr style=\"text-align: right;\">\n",
       "      <th></th>\n",
       "      <th>tree</th>\n",
       "      <th>logistic</th>\n",
       "      <th>randomForest</th>\n",
       "      <th>boostedTree</th>\n",
       "      <th>svm</th>\n",
       "      <th>neuralNet</th>\n",
       "      <th>neighbors</th>\n",
       "    </tr>\n",
       "  </thead>\n",
       "  <tbody>\n",
       "    <tr>\n",
       "      <th>Probabilities</th>\n",
       "      <td>0       0.0\n",
       "1       0.0\n",
       "2       0.0\n",
       "3       0....</td>\n",
       "      <td>0       0.012720\n",
       "1       0.011290\n",
       "2       0.22...</td>\n",
       "      <td>0       0.01\n",
       "1       0.01\n",
       "2       0.12\n",
       "3      ...</td>\n",
       "      <td>0       0.055930\n",
       "1       0.053589\n",
       "2       0.04...</td>\n",
       "      <td>0       0.037654\n",
       "1       0.041775\n",
       "2       0.17...</td>\n",
       "      <td>0       2.467119e-04\n",
       "1       1.587239e-05\n",
       "2   ...</td>\n",
       "      <td>0       0.0\n",
       "1       0.0\n",
       "2       0.0\n",
       "3       0....</td>\n",
       "    </tr>\n",
       "    <tr>\n",
       "      <th>AUC</th>\n",
       "      <td>0.911736</td>\n",
       "      <td>0.911736</td>\n",
       "      <td>0.911736</td>\n",
       "      <td>0.911736</td>\n",
       "      <td>0.911736</td>\n",
       "      <td>0.911736</td>\n",
       "      <td>0.911736</td>\n",
       "    </tr>\n",
       "  </tbody>\n",
       "</table>\n",
       "</div>"
      ],
      "text/plain": [
       "                                                            tree  \\\n",
       "Probabilities  0       0.0\n",
       "1       0.0\n",
       "2       0.0\n",
       "3       0....   \n",
       "AUC                                                     0.911736   \n",
       "\n",
       "                                                        logistic  \\\n",
       "Probabilities  0       0.012720\n",
       "1       0.011290\n",
       "2       0.22...   \n",
       "AUC                                                     0.911736   \n",
       "\n",
       "                                                    randomForest  \\\n",
       "Probabilities  0       0.01\n",
       "1       0.01\n",
       "2       0.12\n",
       "3      ...   \n",
       "AUC                                                     0.911736   \n",
       "\n",
       "                                                     boostedTree  \\\n",
       "Probabilities  0       0.055930\n",
       "1       0.053589\n",
       "2       0.04...   \n",
       "AUC                                                     0.911736   \n",
       "\n",
       "                                                             svm  \\\n",
       "Probabilities  0       0.037654\n",
       "1       0.041775\n",
       "2       0.17...   \n",
       "AUC                                                     0.911736   \n",
       "\n",
       "                                                       neuralNet  \\\n",
       "Probabilities  0       2.467119e-04\n",
       "1       1.587239e-05\n",
       "2   ...   \n",
       "AUC                                                     0.911736   \n",
       "\n",
       "                                                       neighbors  \n",
       "Probabilities  0       0.0\n",
       "1       0.0\n",
       "2       0.0\n",
       "3       0....  \n",
       "AUC                                                     0.911736  "
      ]
     },
     "execution_count": 100,
     "metadata": {},
     "output_type": "execute_result"
    }
   ],
   "source": [
    "# performances on the test set\n",
    "DataFrame(performances_test)"
   ]
  },
  {
   "cell_type": "code",
   "execution_count": 108,
   "metadata": {},
   "outputs": [
    {
     "data": {
      "text/plain": [
       "2656    0\n",
       "445     0\n",
       "9505    0\n",
       "332     0\n",
       "4168    0\n",
       "       ..\n",
       "8018    0\n",
       "6463    0\n",
       "2883    0\n",
       "7895    0\n",
       "620     0\n",
       "Name: churn, Length: 2000, dtype: int64"
      ]
     },
     "execution_count": 108,
     "metadata": {},
     "output_type": "execute_result"
    }
   ],
   "source": [
    "y_test"
   ]
  },
  {
   "cell_type": "markdown",
   "metadata": {},
   "source": [
    "## 5. Other useful references\n",
    "\n",
    "1. Dynamic Classifier Selection Ensembles in Python. Link: https://machinelearningmastery.com/dynamic-classifier-selection-in-python/\n",
    "2. How to Develop a Feature Selection Subspace Ensemble in Python. Link: https://machinelearningmastery.com/feature-selection-subspace-ensemble-in-python/\n",
    "3. How to Choose a Feature Selection Method For Machine Learning. Link: https://machinelearningmastery.com/feature-selection-with-real-and-categorical-data/"
   ]
  }
 ],
 "metadata": {
  "kernelspec": {
   "display_name": "Python 3",
   "language": "python",
   "name": "python3"
  },
  "language_info": {
   "codemirror_mode": {
    "name": "ipython",
    "version": 3
   },
   "file_extension": ".py",
   "mimetype": "text/x-python",
   "name": "python",
   "nbconvert_exporter": "python",
   "pygments_lexer": "ipython3",
   "version": "3.8.8"
  }
 },
 "nbformat": 4,
 "nbformat_minor": 4
}
